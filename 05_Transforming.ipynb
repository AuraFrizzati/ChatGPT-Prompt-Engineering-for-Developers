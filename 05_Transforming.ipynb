{
  "nbformat": 4,
  "nbformat_minor": 0,
  "metadata": {
    "colab": {
      "provenance": [],
      "authorship_tag": "ABX9TyPe+ptFcn88FBf+aVvM/rB3",
      "include_colab_link": true
    },
    "kernelspec": {
      "name": "python3",
      "display_name": "Python 3"
    },
    "language_info": {
      "name": "python"
    }
  },
  "cells": [
    {
      "cell_type": "markdown",
      "metadata": {
        "id": "view-in-github",
        "colab_type": "text"
      },
      "source": [
        "<a href=\"https://colab.research.google.com/github/AuraFrizzati/ChatGPT-Prompt-Engineering-for-Developers/blob/main/05_Transforming.ipynb\" target=\"_parent\"><img src=\"https://colab.research.google.com/assets/colab-badge.svg\" alt=\"Open In Colab\"/></a>"
      ]
    },
    {
      "cell_type": "markdown",
      "source": [
        "# **Transforming**\n",
        "In this notebook, we will explore how to use Large Language Models for **text transformation tasks** such as **language translation**, **spelling** and **grammar checking**, **tone adjustment**, and **format conversion** (e.g. from HTML to JSON)."
      ],
      "metadata": {
        "id": "x9W9kP8qSN3P"
      }
    },
    {
      "cell_type": "markdown",
      "source": [
        "## **Setup**"
      ],
      "metadata": {
        "id": "0X9sCJf1bSMv"
      }
    },
    {
      "cell_type": "code",
      "source": [
        "import openai\n",
        "import os\n",
        "\n",
        "from dotenv import load_dotenv, find_dotenv\n",
        "_ = load_dotenv(find_dotenv()) # read local .env file\n",
        "\n",
        "openai.api_key  = os.getenv('OPENAI_API_KEY')"
      ],
      "metadata": {
        "id": "AOQ0i1JLbULP"
      },
      "execution_count": null,
      "outputs": []
    },
    {
      "cell_type": "code",
      "execution_count": null,
      "metadata": {
        "id": "LXlqzTpnRzKU"
      },
      "outputs": [],
      "source": [
        "import openai\n",
        "import os\n",
        "\n",
        "from dotenv import load_dotenv, find_dotenv\n",
        "_ = load_dotenv(find_dotenv()) # read local .env file\n",
        "\n",
        "openai.api_key  = os.getenv('OPENAI_API_KEY')"
      ]
    },
    {
      "cell_type": "markdown",
      "source": [
        "## **Translation**\n",
        "\n",
        "ChatGPT is trained with sources in many languages. This gives the model the ability to do translation. Here are some examples of how to use this capability."
      ],
      "metadata": {
        "id": "us_rTniLbZrp"
      }
    },
    {
      "cell_type": "code",
      "source": [
        "prompt = f\"\"\"\n",
        "Translate the following English text to Spanish: \\ \n",
        "```Hi, I would like to order a blender```\n",
        "\"\"\"\n",
        "response = get_completion(prompt)\n",
        "print(response)"
      ],
      "metadata": {
        "id": "G0rxrOrlbio8"
      },
      "execution_count": null,
      "outputs": []
    },
    {
      "cell_type": "markdown",
      "source": [
        "`Hola, me gustaría ordenar una licuadora.`"
      ],
      "metadata": {
        "id": "Xm4as59oblWK"
      }
    },
    {
      "cell_type": "code",
      "source": [
        "prompt = f\"\"\"\n",
        "Tell me which language this is: \n",
        "```Combien coûte le lampadaire?```\n",
        "\"\"\"\n",
        "response = get_completion(prompt)\n",
        "print(response)"
      ],
      "metadata": {
        "id": "ZgV8zRZobqy-"
      },
      "execution_count": null,
      "outputs": []
    },
    {
      "cell_type": "markdown",
      "source": [
        "`This is French.`"
      ],
      "metadata": {
        "id": "GnjV7dN9buae"
      }
    },
    {
      "cell_type": "code",
      "source": [
        "prompt = f\"\"\"\n",
        "Translate the following  text to French and Spanish\n",
        "and English pirate: \\\n",
        "```I want to order a basketball```\n",
        "\"\"\"\n",
        "response = get_completion(prompt)\n",
        "print(response)"
      ],
      "metadata": {
        "id": "TnMiI0W-bxiE"
      },
      "execution_count": null,
      "outputs": []
    },
    {
      "cell_type": "markdown",
      "source": [
        "```\n",
        "French pirate: ```Je veux commander un ballon de basket```\n",
        "Spanish pirate: ```Quiero pedir una pelota de baloncesto```\n",
        "English pirate: ```I want to order a basketball``\n",
        "```"
      ],
      "metadata": {
        "id": "o3MJc3FOb3Mw"
      }
    },
    {
      "cell_type": "code",
      "source": [
        "prompt = f\"\"\"\n",
        "Translate the following text to Spanish in both the \\\n",
        "formal and informal forms: \n",
        "'Would you like to order a pillow?'\n",
        "\"\"\"\n",
        "response = get_completion(prompt)\n",
        "print(response)"
      ],
      "metadata": {
        "id": "xFg1al28b7wp"
      },
      "execution_count": null,
      "outputs": []
    },
    {
      "cell_type": "markdown",
      "source": [
        "```\n",
        "Formal: ¿Le gustaría ordenar una almohada?\n",
        "Informal: ¿Te gustaría ordenar una almohada?\n",
        "```"
      ],
      "metadata": {
        "id": "q88FUTEIcHkP"
      }
    },
    {
      "cell_type": "markdown",
      "source": [
        "## **Universal Translator**\n",
        "Imagine you are in charge of IT at a large multinational e-commerce company. Users are messaging you with IT issues in all their native languages. Your staff is from all over the world and speaks only their native languages. You need a universal translator!"
      ],
      "metadata": {
        "id": "wYjI3196cK6z"
      }
    },
    {
      "cell_type": "code",
      "source": [
        "user_messages = [\n",
        "  \"La performance du système est plus lente que d'habitude.\",  # System performance is slower than normal         \n",
        "  \"Mi monitor tiene píxeles que no se iluminan.\",              # My monitor has pixels that are not lighting\n",
        "  \"Il mio mouse non funziona\",                                 # My mouse is not working\n",
        "  \"Mój klawisz Ctrl jest zepsuty\",                             # My keyboard has a broken control key\n",
        "  \"我的屏幕在闪烁\"                                               # My screen is flashing\n",
        "] "
      ],
      "metadata": {
        "id": "q6RUXK4ycQeM"
      },
      "execution_count": null,
      "outputs": []
    },
    {
      "cell_type": "code",
      "source": [
        "for issue in user_messages:\n",
        "    prompt = f\"Tell me what language this is: ```{issue}```\"\n",
        "    lang = get_completion(prompt)\n",
        "    print(f\"Original message ({lang}): {issue}\")\n",
        "\n",
        "    prompt = f\"\"\"\n",
        "    Translate the following  text to English \\\n",
        "    and Korean: ```{issue}```\n",
        "    \"\"\"\n",
        "    response = get_completion(prompt)\n",
        "    print(response, \"\\n\")"
      ],
      "metadata": {
        "id": "F22QCPV9cUhh"
      },
      "execution_count": null,
      "outputs": []
    },
    {
      "cell_type": "markdown",
      "source": [
        "```\n",
        "Original message (This is French.): La performance du système est plus lente que d'habitude.\n",
        "English: The system performance is slower than usual.\n",
        "Korean: 시스템 성능이 평소보다 느립니다. \n",
        "\n",
        "Original message (This is Spanish.): Mi monitor tiene píxeles que no se iluminan.\n",
        "English: My monitor has pixels that don't light up.\n",
        "Korean: 내 모니터에는 불이 켜지지 않는 픽셀이 있습니다. \n",
        "\n",
        "Original message (This is Italian.): Il mio mouse non funziona\n",
        "English: My mouse is not working.\n",
        "Korean: 내 마우스가 작동하지 않습니다. \n",
        "\n",
        "Original message (This is Polish.): Mój klawisz Ctrl jest zepsuty\n",
        "English: My Ctrl key is broken.\n",
        "Korean: 제 Ctrl 키가 고장 났어요. \n",
        "\n",
        "Original message (This is Chinese (Simplified).): 我的屏幕在闪烁\n",
        "English: My screen is flickering.\n",
        "Korean: 내 화면이 깜빡입니다. \n",
        "\n",
        "```"
      ],
      "metadata": {
        "id": "nohpDFYEcfyk"
      }
    },
    {
      "cell_type": "code",
      "source": [
        "for issue in user_messages:\n",
        "    prompt = f\"\"\"\n",
        "    Translate the text between curly brackets to English \\\n",
        "    and Korean. Format your \\ \n",
        "    answer in JSON with the English name of the language as key\\\n",
        "    and the sentence as value. Make sure to return the sentence \\\n",
        "    in all three languages, the original one and both English \\\n",
        "    and Korean translations. Following this format: \\\n",
        "    \"English name of input language\": \"input sentence\" \\\n",
        "    \"English\": \"English translation\" \\\n",
        "    \"Korean\": \"Korean translation\" \\\n",
        "    ```{issue}```\n",
        "    \"\"\"\n",
        "    response = get_completion(prompt)\n",
        "    print(response, \"\\n\")"
      ],
      "metadata": {
        "id": "dD2FJBMXcw91"
      },
      "execution_count": null,
      "outputs": []
    },
    {
      "cell_type": "markdown",
      "source": [
        "```\n",
        "{\n",
        "    \"French\": \"La performance du système est plus lente que d'habitude.\",\n",
        "    \"English\": \"The system performance is slower than usual.\",\n",
        "    \"Korean\": \"시스템 성능이 평소보다 느립니다.\"\n",
        "} \n",
        "\n",
        "{\n",
        "    \"Spanish\": \"Mi monitor tiene píxeles que no se iluminan.\",\n",
        "    \"English\": \"My monitor has pixels that don't light up.\",\n",
        "    \"Korean\": \"내 모니터에는 불이 켜지지 않는 픽셀이 있습니다.\"\n",
        "} \n",
        "\n",
        "{\n",
        "    \"Italian\": \"Il mio mouse non funziona\",\n",
        "    \"English\": \"My mouse is not working\",\n",
        "    \"Korean\": \"마우스가 작동하지 않습니다\"\n",
        "} \n",
        "\n",
        "{\n",
        "    \"Polish\": \"Mój klawisz Ctrl jest zepsuty\",\n",
        "    \"English\": \"My Ctrl key is broken\",\n",
        "    \"Korean\": \"제 Ctrl 키가 고장 났어요\"\n",
        "} \n",
        "\n",
        "{\n",
        "    \"Chinese\": \"我的屏幕在闪烁\",\n",
        "    \"English\": \"My screen is flickering\",\n",
        "    \"Korean\": \"화면이 깜빡입니다\"\n",
        "} \n",
        "```"
      ],
      "metadata": {
        "id": "GHvydISNcz8b"
      }
    },
    {
      "cell_type": "markdown",
      "source": [
        "## **Tone Transformation**\n",
        "Writing can vary based on the **intended audience**. ChatGPT can produce **different tones**."
      ],
      "metadata": {
        "id": "GYwmF6fyhf0U"
      }
    },
    {
      "cell_type": "code",
      "source": [
        "prompt = f\"\"\"\n",
        "Translate the following from slang to a business letter: \n",
        "'Dude, This is Joe, check out this spec on this standing lamp.'\n",
        "\"\"\"\n",
        "response = get_completion(prompt)\n",
        "print(response)"
      ],
      "metadata": {
        "id": "4cIMsyn1hoDi"
      },
      "execution_count": null,
      "outputs": []
    },
    {
      "cell_type": "markdown",
      "source": [
        "```\n",
        "Dear Sir/Madam,\n",
        "\n",
        "I am writing to bring to your attention a standing lamp that I believe may be of interest to you. Please find attached the specifications for your review.\n",
        "\n",
        "Thank you for your time and consideration.\n",
        "\n",
        "Sincerely,\n",
        "\n",
        "Joe\n",
        "```"
      ],
      "metadata": {
        "id": "xtvkbW9QhrtD"
      }
    },
    {
      "cell_type": "markdown",
      "source": [
        "## **Format Conversion**\n",
        "ChatGPT can translate between formats. The prompt should describe the input and output formats (e.g. HTML, JSON, XML, markdown)."
      ],
      "metadata": {
        "id": "tW5fquzshxur"
      }
    },
    {
      "cell_type": "code",
      "source": [
        "data_json = { \"resturant employees\" :[ \n",
        "    {\"name\":\"Shyam\", \"email\":\"shyamjaiswal@gmail.com\"},\n",
        "    {\"name\":\"Bob\", \"email\":\"bob32@gmail.com\"},\n",
        "    {\"name\":\"Jai\", \"email\":\"jai87@gmail.com\"}\n",
        "]}\n",
        "\n",
        "prompt = f\"\"\"\n",
        "Translate the following python dictionary from JSON to an HTML \\\n",
        "table with column headers and title: {data_json}\n",
        "\"\"\"\n",
        "response = get_completion(prompt)\n",
        "print(response)"
      ],
      "metadata": {
        "id": "oUclxSphhwwE"
      },
      "execution_count": null,
      "outputs": []
    },
    {
      "cell_type": "code",
      "source": [
        "from IPython.display import display, Markdown, Latex, HTML, JSON\n",
        "display(HTML(response))"
      ],
      "metadata": {
        "id": "sg-QXQ1hiAV5"
      },
      "execution_count": null,
      "outputs": []
    },
    {
      "cell_type": "markdown",
      "source": [
        "<table>\n",
        "  <caption>Restaurant Employees</caption>\n",
        "  <thead>\n",
        "    <tr>\n",
        "      <th>Name</th>\n",
        "      <th>Email</th>\n",
        "    </tr>\n",
        "  </thead>\n",
        "  <tbody>\n",
        "    <tr>\n",
        "      <td>Shyam</td>\n",
        "      <td>shyamjaiswal@gmail.com</td>\n",
        "    </tr>\n",
        "    <tr>\n",
        "      <td>Bob</td>\n",
        "      <td>bob32@gmail.com</td>\n",
        "    </tr>\n",
        "    <tr>\n",
        "      <td>Jai</td>\n",
        "      <td>jai87@gmail.com</td>\n",
        "    </tr>\n",
        "  </tbody>\n",
        "</table>\n"
      ],
      "metadata": {
        "id": "O7J56iA3h_aR"
      }
    },
    {
      "cell_type": "markdown",
      "source": [
        "## **Spellcheck/Grammar check**.\n",
        "Here are some examples of common grammar and spelling problems and the LLM's response.\n",
        "\n",
        "To signal to the LLM that you want it to **proofread** your text, you instruct the model to 'proofread' or 'proofread and correct'."
      ],
      "metadata": {
        "id": "QSgXvtojiGdX"
      }
    },
    {
      "cell_type": "code",
      "source": [
        "text = [ \n",
        "  \"The girl with the black and white puppies have a ball.\",  # The girl has a ball.\n",
        "  \"Yolanda has her notebook.\", # ok\n",
        "  \"Its going to be a long day. Does the car need it’s oil changed?\",  # Homonyms\n",
        "  \"Their goes my freedom. There going to bring they’re suitcases.\",  # Homonyms\n",
        "  \"Your going to need you’re notebook.\",  # Homonyms\n",
        "  \"That medicine effects my ability to sleep. Have you heard of the butterfly affect?\", # Homonyms\n",
        "  \"This phrase is to cherck chatGPT for speling abilitty\"  # spelling\n",
        "]\n",
        "for t in text:\n",
        "    prompt = f\"\"\"Proofread and correct the following text\n",
        "    and rewrite the corrected version. If you don't find\n",
        "    and errors, just say \"No errors found\". Don't use \n",
        "    any punctuation around the text:\n",
        "    ```{t}```\"\"\"\n",
        "    response = get_completion(prompt)\n",
        "    print(response)"
      ],
      "metadata": {
        "id": "LbkpevZliGPq"
      },
      "execution_count": null,
      "outputs": []
    },
    {
      "cell_type": "markdown",
      "source": [
        "```\n",
        "The girl with the black and white puppies has a ball.\n",
        "No errors found.\n",
        "It's going to be a long day. Does the car need its oil changed?\n",
        "Their goes my freedom. There going to bring they're suitcases.\n",
        "\n",
        "Corrected version: \n",
        "There goes my freedom. They're going to bring their suitcases.\n",
        "You're going to need your notebook.\n",
        "That medicine affects my ability to sleep. Have you heard of the butterfly effect?\n",
        "This phrase is to check ChatGPT for spelling ability.\n",
        "```"
      ],
      "metadata": {
        "id": "niiUsz3TiOSF"
      }
    },
    {
      "cell_type": "code",
      "source": [
        "text = f\"\"\"\n",
        "Got this for my daughter for her birthday cuz she keeps taking \\\n",
        "mine from my room.  Yes, adults also like pandas too.  She takes \\\n",
        "it everywhere with her, and it's super soft and cute.  One of the \\\n",
        "ears is a bit lower than the other, and I don't think that was \\\n",
        "designed to be asymmetrical. It's a bit small for what I paid for it \\\n",
        "though. I think there might be other options that are bigger for \\\n",
        "the same price.  It arrived a day earlier than expected, so I got \\\n",
        "to play with it myself before I gave it to my daughter.\n",
        "\"\"\"\n",
        "prompt = f\"proofread and correct this review: ```{text}```\"\n",
        "response = get_completion(prompt)\n",
        "print(response)"
      ],
      "metadata": {
        "id": "FGNO_P_hiMsi"
      },
      "execution_count": null,
      "outputs": []
    },
    {
      "cell_type": "markdown",
      "source": [
        "```\n",
        "I got this for my daughter's birthday because she keeps taking mine from my  \n",
        " room. Yes, adults also like pandas too. She takes it everywhere with her, and it's super soft and cute. However, one of the ears is a bit lower than the other, and I don't think that was designed to be asymmetrical. Additionally, it's a bit small for what I paid for it. I think there might be other options that are bigger for the same price. On the positive side, it arrived a day earlier than expected, so I got to play with it myself before I gave it to my daughter.\n",
        "```"
      ],
      "metadata": {
        "id": "5kLBfJVpit-y"
      }
    },
    {
      "cell_type": "code",
      "source": [
        "from redlines import Redlines\n",
        "\n",
        "diff = Redlines(text,response)\n",
        "display(Markdown(diff.output_markdown))"
      ],
      "metadata": {
        "id": "v0S3tUhVi51x"
      },
      "execution_count": null,
      "outputs": []
    },
    {
      "cell_type": "markdown",
      "source": [
        "![image.png](data:image/png;base64,iVBORw0KGgoAAAANSUhEUgAAAWQAAAEZCAYAAACgp18/AAAgAElEQVR4nO29X2xj2X3n+eXGDwkQY511sKBsabEECnBjsBUYWgwgsrcdgIsCBhO4kSJBBSLbxlbqZXZ6F8hWy/kDsQQsdYnA3XI9xFsv0RYq6DavnBLIQlQT7AQ1QyNdbl4N0issUjtAl6cCOhC7ycD2tu0Xe57uPpxz7j3n3HP/kpKupN8HICTeP+f//d3zj79vwXVdFwRBEMS581+cdwIIgiAIxnwG+agLFArqZ3+WIaAZsF4HJiGn9+ss7KN5EpuAoy6w44ScnMFeL6DrpcFBtyB/15jYqBfqsMPyFMFsv45CoYBCVPi5ZAasF4BC9wzjdHjbi4kzsm7njbuw2PY5sVl46/aCAiQuCtkN8k4BKLeDx5tLKRv+DFhfAg4yp2QxHHXN+cnKchN9t4/mctobZxg+HsByXLiui621xSXpyrLouvXCHbK/9hRwXYDqipiTbAb5qAtsA0ANOHFZY3RdwK6x89u7am9XvPHFxzPYsjEeACtZe9hgL4hCASjUgYlj7mHsyL15qUcuP7DbFUNvawZ7fQmtA6BdLqAup/Fp1+vNFgpdeK8irYfs7BTM1yk46Bb8eArrNmY8ff69aq97tl9Hfd9GN7RH7aBbqMM+slEXYazbmPEevhKmqVd/1I1IL/zRS6EA7I+D5wOjKKlsTT1B02hIjuMoohcutzPRxqLqdickXXKve0dvs1KaRLjNpYhwtZGfyMtO13w+qvz0Z0MuFz0cL91dQ/6I3OJmocNNsBNyTj5+0nMlk+1/Gj3Xdaeu29CO29NgmHYtPD75vBd2TYpDS7P+cVzXdSztuGWIZOr2GnAtLw0j1wJcNHruVDqPzsjLdw01t3fiulO7Jl0X/B4Zj2O54OGYvk/tmno+gJ5O/l26Z9QR6WZx16Q6GHXU7wqBctPKL6zupTIK1JNe14E4arzNiDoahaQhpm5N7cFLhyFMve3pbS4qXPn+QFvtuQHCyg011z0Ji19rt3o6RJkTueYzqS34k/eAvwGAN4AfPQGeaOe/fKge/8sW+7v5LvCVzwH4KfDNrwMHLWD3EPjau8AnXwc+KAMP/wT49b8LhhmJAzQH/F8+bNyvq1MgE5v36C3A3WLHRM/png082gIcsO+dEXC3nDh2604TRQBAEdWbNeDxGDOU+TEzxY0+3I0koc9g32ujZk/9qY+1LYw6BVQeOmiKdDbqqMZMjfjpLKPaAYBNL8zyDQu4x9JdvVlD6/EQs40minAw3K6hfmLIzZP3gG/yHqKo25/8LXDrWwA+Ap48AfBZ4PDQv0ec/5s+8OUfAz85Zsc/OQaefJb9fzxlf7//BPjRT4NxvHgEfANSHB/54b9zCHwJwPt/Cuw6QP894Cu/BbzzBvCN7wCtt4HfewV48g5rD6++BfzRb7N73/9TYLcF7H4W+JIhTL2t//r/BGxOWTwibX+xydvZG8DhOrvuxSMW9+Ymi0vkT477idbgRbmAPxOfB/CXrwO9AfDdJ8CXfgrcHxjiaQPf+G94OfEgRJ7x42AdErkjvUH+eAqMAeDfA3/2M+DXAOCXwP/9FPhEum71BvDFX/BG/Arw4sBvJIVXAHwE7H8b+CJ4eD8Eens8PIkvfhH4SkR6JnyY3Oj5c3gbm76RBoBnffbXvu0fW7sNNNrAgWGYvWCKG5uwmhUsFVoAauidJJ1bHmN8AKzeUQ1i6VoNeDlfmmrXSua0vlZHrTnGGEBxMsZxo47bprQe/y3wAaDW7S+BLwD45ENg72fSxZ8CT77vfx1/D9j7AfCLj9XvAPDxD9nfv9oDfuPTBHF8ygN9BXh/D3gfwKf82PA94MWvAp/+J/b9w0Pg58/8eD/4FvD6t9R87X+btVs9TBMirSKejz9k31f/Cdjb4xfx9H7w1yyP4p5f/L2fZx2Rvi/8Z2DAw/l4CcBUK5fvAK9/R733yZ8DL34DEEH/4zNg7xnw+c8DX/1qSEaI3JCpXx2Ysgibephqw0uOGEYq10jDMZ2oKQvTsFcMOcUxJT49zZZ6TejQzjxlYUlpUqYipCkLPQwALmC55pjkeIJxePHwdEZPf5jDCExDOFZg6sVyWNih0xXesF6uW61M9bqJ++66WttKEIfpGr2+9boNnRIQ15jiNSDapR5PVDvT7zERO5UTMU0j7omaViRyS7ZFvRsW+1sWCwlF4JG2sAd+/DoAtKUFiRlwjw9DS1ED+4Qs857eQctfCNrfNV/TfOAfO3rApjUa5p7i6VBE85EL1x3BQhvD2G1SJZQawPFYXcwZvxyEXL8I2NRL+6mN4WOg/lpYHZWABqDUrShTgRiZ3Kyyv5OQ0Yg3SnH4kD9FHFkQ7aHRC5q0FNNVoeGeejsT5WIF0/+oucB4iLMmm0Fe2wI6gLczQl5Fbw4A1ADxIN/qsb/NJX4N31UhTzFACiv1XtGy/xIo8zQ81i5ZbvL0tv10ihXyO1oD3q7Er3ynZLZf93dMAMDREG1YqMZukyqiecfCoPmmv/PhqIvKdg29W3MYjrhYX6ujtt1CC1Fz00XgDn8xi7oN21oWdl4YMK9eKgniOObGKANe3ZZZezhoaTtA5qz3NO1sLorAzZoaz6L3QhPnQvZ9yHddwLGCx+0p4PYB8SAvN4GTnnpNZyS9yaWHLisbff4gAIAFPNo0p7cjH+Bb9oRRXLsd86DznmO5gELKl0Zx4z56aGFJbDMrH6N3soVEJnVtC66zitaKfG+W/c0pWK6i3gBqN6uRi5NY21JHRJ2eWoYb99XvDq+Dgz43fGW1DTV62ghLj6MGnNxPnx9T3QbaAwBHardZiWtni2KjHywre0p7oS84Bdd13fNOxHxIe5ntKbBRZLsqVlrsAachXAZmsNffBO6dsuFPwk6BTWN4u18c3pOWdswQxCXhEviyEPPU8Ie1K3yrnZi7JNIxGaIfOV1xhlwTPzaqqNMaHapb4vJxCQwygLvT4JC0M2K9ZSIVzk4BhZU+6vea0dMVZ4UyHcVp9OZbfCOInHIJpiwIgiAuB5ejh0wQBHEJIINMEASRE8ggEwRB5AQyyARBEDmBDDJBEEROIINMEASRExZkkC+zltp8eQv4sdBwdqJ+ip1Sxy91+BcEoYyRVU3mEhHXnlIxh+4jcTpc7h7yaWmpLZDyXRcu/ciBIAjMY5DjtNR0RV7FE5Whdyu0w+ReUC601D6MzrtJby3AGA/WfU09uYcr92B1fbz1/zGljh8vi7p0bqilRNX2k3rPBu282N5YqKZbXP2KutQ/caOQYYRnNiemTqLOG9Ijl7doC3r7lbUAde1AXc9R15WM7O3LeoemEY7anupaWLJqua7BGAnXbvTDi0mHovWotuvZfh2FHUdpb8rITmmnwTxcWTJ5UY7TUjM5rFfOp3AqngcttY7B2b3+CXE4zjTvJIfwJz23JjmM9/XsTPp4WXT8dD0+//yoA9WZPT9vdoavx61h1HQTIgNx9RvXPpLElaAteHUScl6Um1EHTxJMCDh71wQQkmoHmtpWAF3XUP0u2lOY5mJAsMCx3FAxBFlEQdduDGkPNen5VMLVBBmi270etlmI4SqSwSBLD5NU2NEKC7oqSIoHNmCgDQ+hLiAZphShP0jyPboSQ1jjMKpCRJSWQdFDNsIBg6xcm06lJC6uIGp4yrUnPbcW9iAfvs3Lqey6Dw9d9/DQdTfL7Njmu9L5N9i5w0PXfecN6fyh9HnbL/PAOf6xddFaqX3IL1/JiBlVOvR2ENZedQOc1CCHlXNA8cbQDj2CQrPK2UAdy3U4ci2D4G2oUK0woo72IndVVRr1essdhbys45Rs/PZFBjiMDFMWY67YYPnOe5ar4b6EdySn9PPEEeqv2PJ9wJZWo4MVihWyY3KhvaeocljhfmXXuJcxz+F+Aqfg10uKo57StRrwfLyYhRmJ8cuBOS4Nf0hbgTzDXr5h+emajDHoVM0+m//su+yv0Hzb2wNe/CbTbHtxAOwJYdMP2bm9PeCv+NTP8D3/2N7bwOt/yI5/6X/g9+6pn3/4Bz/eO5IP7Zs8X+MZMOaioLoIAo7ZtIZQWLkhclPmrwDNfaeYgtlGOkT79zzSaVMSIn4hoCA81hn1HIUowRKrozQLeJMxjjHwfWfzTyUyPwO0yi0MNMGE8csBsF1Rp7dWWmA5YVqP7bIaz1JTU7IJbfdl3LZr/v0XfdF5gZzSop6Yk6sDt1zANXhj0xEP1XnxMqnYKX+YZaf75SxKJ2ePMMRLzVWMXCElJbFWhXXQx3ACOE/bsG6ELDY+fIv9ffUtpiod+LzNL3zDP/av/xk7tPkuP/bnwK9y4dNGD/jomTmsP/gDP95x2lfYIJkCiJgjLvVZ3ere5XQCUlRCwmzkH2ouBeeRAxyb07e2Bdd14Z70UDvgwgaJ21cNvROX3S99+hGeDy3HxajTRkWPozMKhOO6vrCC5QTjSbpAXdzos+sdyzP8NI+cySAn0DmbDLlMU50rMIxDesiiQc6Ax/Lb9QJoqS03+b38IdzWl88ktN6wqSe7CEw9b19/b4bh4wF/iMLUSsqodgboP7Mx3I6QmDLpGIpFLeWhDqtfADtL/igoqYjAY1HGUniloj8ysqfBel2D71P5nu3fLzoME6HjJ0ZFM+B5SPzihSC0AgOInjfvgAhlFBG/o88ixyiULDfR94zWELEmebmEVQwwTrWNrYbSMlC+1UNtu+ItvEWP4sxajwGStHv+8pnaNQweDxc+arxwZJroiFvUC1X1FXPIYYs6pjlj6d6sasNy3JELOAnUhsMWmELmD+MWYRY5hxw4ryzqmReLoIWnLwSmK4ek9Ru2IBuiPJ51US9qsdars5jF4aj44xZ6ky76KQTnkKPbiFrnrL3Jc/8R87XGhThxL7tPTocSd2ARMGbxUYkrZsHwCpPNILuu2kg7Pc1Y6udHQWOpNFLLvFjmhVFz3ZMM8u+KYTCsmusPXlr598CDH4QtdPQ846cbwOiHzW/YYYshgXv4ajbAdlT0Agt1cjq0XRq8DBIvuOjlIN8TWb8ZDbLdi7hWD1Ovw1F4nckGtdEzLNJpLxjHsCgXtqvHWB7RbUavJ7l+4wyy6/I2BXN7C8YTNKph7SW0bfJP0HhbrhXS7r0Xv/jEdQCuCPl1UE9aaueEg25hiGrotAZBxDPbr2PpcR3TRzlRnrkg5PeXeqSldj4cDdEO211BEMSpkl+DTFpqZwzzm1EoAyMqY4I4F/I7ZUEQBHHFyG8PmSAI4opBBpkgCCInkEEmCILICWSQCYIgcgIZZIIgiJxABpkgCCInZDPIR91UbgGjdN3yovm2UK0yHUlZgTxaEeHwveC6Cox87rTaaCbSaDyq1wpFEULlM+edgPJdF3nYCF3c6MPdOJ2wnadt1OxppAtEggCKaD4aYVyooLJTVV1ZHj1A68DCyKWfIl9m0veQj7oolNvAQQtL0ps8VKstgNoL0DXlCjs2P2/qUc6Uc939CNXciY16oQtH1v3acQKacyKVcg85Ph2I1BPT01vZBnc43oUDB91CF7ZwEu/1eFT9Mjm+MH0yRTsttLwddAt12EdSvtdtzJT4RBmy9Kp5jegFCYfuO0JPTtK5U3QLdf07BDXm5PSLc+u2FA4Pw6SfmARPI1GkVej36Xp6Bl0/XS9PLh/P7agthdMN3pd4ZFTGFvcRrKiNl9uwHN+/SJRuXmZNPZ5m5Tk26Sx6bU51ORsY7YaoWs/268yZ/XZFfeaypvkykcklkWMpnp+itdpkj2ZB72JBTbkYV5W6npxBssZ1Xd9TVcBzlXAvaHAXKEshRaQjTk9MR5XQ4bp4Bg9r+jVhrgxVD3Bx8es6fPx7UhegWl0rhHm9M7o4lbzBhbmjjHNX2TC4wUwqA6SnibdHs5tQyZNcmGtNUfahrjf1tIZ4sguBeWxjbUyX4YrUzdPbZpSmnk6Irp76fPphCa9yRgkw1410ualIRM2T5kvGQqYsAtMOa1VViYLj7CyhhR6mUb4SGj3cFo7R16qw0GYOt5cdDLdr6J2IIRuTumkdRCmN1NC7xeNarqLeAHDzNu9lFFG9WUPr5RgwDQJD0zGDfa8Ny3F9BzzLTdy3+1h66KCZ0A+ErMYx299Fu9HD1JvSYL2kQvkBnI0tlLT0FF+rowagruStxdMXEt8dUW5lVDsAsIkmv7Z8wwLuMWmd4mt11Jp9DCdNNJf5dMvNabCEnjwBjqfs/1ffAv7ot9n/f7HJHb6/ARyus2MvHgHf+A6wucmu+8sWO775LvCVzwH4KfDNrzOH97ufBX5T1GkZePgnwOc/YlJPBwP/nr98HegB6L8H/OhzicocgOQ9EKwHe8DK1nOSv19nsl4PHeBuCbjHRa4clzuw514Ht3eBW7Kjeu6FcGIDKy2WVscF1mbA+hL7HlE/OuW7U/SeL2F3/RiDAwsjV7QXBw+akJ4DAGtbGHUK2N2/jX5JC2htC4mdIwSuFW0FEAIHNfu+1+7Ld0ewtisJA09BmjRfMhY6h+wNRTiKUd6uoAKgZlezzYFNxjjGKqpyg14uoYZ00k+rpXln4Lie2EFB0aMDAHQ2s4X4cgBc31TLZbmEGqJkpVZRSvhwm6hd059cEa9s3GcYP6+hfstQZv/xPwLDH7L/f/H3wN4P2P8fc+281X9imngAgF8CXwDwwV8De/8BeAIArzANvRf8ksIrAD4C9r8N/Fc/YceEZp+4/5Ml4P/h93y8BGDKNPpe/Gp0Zn//9/3/ZVmqp7wG70iKJRubzCA/HzOpJmGwPfWUMmDX2DXysFp4IRRqKp4CSRG4jgxqN0U07/XQX2nBcvr+y5/r5rVXCmhpd9RsAGu30WssoVJgebMcF1thyi9hTGzUPf08cCdfrN2v3lFU8lBqILKVJmIRab4kLGTbW6xWGwA0epie9IDmm5difmgePbF8w0YO7acOMBmij7r6EhT88R8Dmzy/nk7eIXD/zeCxw3eBVwHWaz7g8lxvqNp577zh3xfQ7BP3l4GH/HpT3GGf3/1dc1YNArAKyyEvrbNiuYRVLrGkEqWbV0TzEfs+6ggh0oRzsmJ9ZaWFVccP4/SZI82XjAUY5CRabWBaWstNbHYGaN3JsHVnuYRVHKt6YZMxBqE3nBYJ9cTShGjSLzuXvDGKr9VR2x7CftYHbqYc0Qgj1nzgHxN6iI0SvB6jrJeImT81MPcIJgVCi++eJEa6v8v+Xi/B03aUtQPhcKXyWuLph4WSQjevfNeF607RawzQfxbfXmfP+hhwYdNgD9XU7lmveZGkTfNlY2E/DPEragZ7vRIcznPKd0ewDlp4M/V+XCbA6RtzNpd79giZdrmnb9qdkCLEjU2tTNiqes2+fT6O4perqDfaaDWB+mspDeRykw9x2/4Og7I2NXCLK3Y3l/g1S4apgZSIHR9p6mDttm9wRVqFsb1VBlAE7vCxXlnsoBBCCZvZDbLY8ZFo/65OGbftGtplefeDtBPmqKvujJgM0T+oJa9HqWMw26+jsi1OiHb/QNpZpT7npWs1RYzVedhK1qmYN82XiGwGea0K66CFpUId9oTNdaG5xLesLGF8Z4peA2zYG4AtWA0yTF2U707RA5dFLyxhfLOH2pxzqZlY28LUBlorBS/P/Zvz7DMuY8sdYdUrwwqOz3XfMpu2QCNkuiKOu64mLlADTlzf2C43gZOeek9nlFx9emEUgUdcIdrDgqIGvbYFONoEnD09V6GE4kYfo04bFW+bWAUQ865rW+q5lRZWnT5fwI3uOBQ37kvPVwFLLzcxtSUju7aFqX3shb17radMTRY37qPX8OMe3jBMXYprX6ujtl1hhjgyzVeLi+2gfmKjvjLGJum/LZzZfh1v4j79mOWyMbHRfVbFFtVrLrlAviyCP1BwHrYwIP23U2CG4eMM0xVE7nEe9lGies0tF6uHLH4lKOiMLsnOhhzBy5h+6k0QZ8/FMsgEQRCXmAs0ZUEQBHG5IYNMEASRE8ggEwRB5AQyyARBEDmBDDJBEEROIINMEASRE07FIJ+WPp2sSBBQGsmV1lhS0miSpWUGrBuUOk6bo246JY8FEVCs0drDYrUbuQpLwrI9q/YZVN8hzbqLxoXtIZfvXhZ3l6eBcIp+xtEedX1HQmeIs1NABSPFFeXouioxdhWgZ+Lik9kgJ9fQU7XiAtcpGl7Jex2xStZyWIn070RaTfpzYenVNMe4jp8t64Np90dpkumagUZtvdiyko3xAFiRPKBF6dgJ4rTwwpCN8XZF1aaLDTOBrl0oDobbqgILwL0Koo2hUtdDpS2q7UAr+9AerYNuoYI2BmitSGHEaNEpIaRpn4oGZLRHQfFMmDTriAtCFt2nOA09X/NL1a3TdezMWnXR2nRChytMB86ctqT6d0JvTtMNE+HFaI4FdPyM2nhhmmRBvUF2PY8vse6YQSfOnsbr2LluvBZeFAFtOSthmAl07SLh5Ram+8dhZe3XnVoXejs16MOpoblWZLs1aNFlap+qDl3wuyGPcpyh6SfySjaR0wAGAUOjQZYxn4t6EOIM8kgzeCIOvQGHN1ZDg08gYBolNqoLvKr5jX7AlPCSCj+enLju4buu+ypcF2XXfXjouoeHrtvihm7zXfbduwau+86h6z58ixvCN/j5Q9d95w127NW3/GNRH2GUpfJQjLPr+teIF4H+3XV98dTEBkW8SP2PXqaRApxGIVfN6CY+F4wve/uMaR9xcZJBvnDMNYfsD6HDHNILp9ZLhmEg1+jSFCJKcbI6YRy0UGkOAMX7G9e/K6vTALLuXxBNMsek0CANI30H3nGY8stUGHS86SBZ12zttuJrNnIhcO89LnT2Q6C3B+y9zQRBhY7d3h6wd8B17MB07L7NVTOEFt7eHvD+P0laeHvRn3/4h2A6nnERUPu2f8xzCs+V2MJ07QCma5eIMrbE/PFJDzWIOk82hzwbHwMHvh/g6DYdQVS7yNQ+hTP6uGlB4rKQySAn0tATrG35D4po9KfSsCyMXKaCqxurhenfnbLmmDDElec9TCXjwkioO7a8bNCgS6BjF6uFF6Nb9wd/EMyQkEiKIusLOIzlJvqukAFqYzepgkiDl7nySegkPVG7yNY+ixt99t2x2JxwzDwycbHJYJATaujpiAfFsbgCgVmbbvwyo5Jco4RSQN4mi/6d3hse45j3mqM1x+KI0yRzMNzm4pWPmpE6dul1xxLo2MVq4WUgSZixunYx6PI/HkWUrgODl/G97GJpFTgYZ1ZPTtQu5m2fvGMztWsYPB7SQt0lJfOURTINvaBkjPO0zYdtBm26oy4q2zX0bmXfuuPJyOw4yKp/177nT60wJ/ibfk8pVHMsNmWxmmTqy8BBV56yyKQ7xndZ7DjxOnZJtPDELo11OxiVzHaF7aZAgjBjde0QrUEnpnL03QQTG7tJ25IIQx65hRr6EBK2i3TtU9+nzjpDtbTCs8TFIdPMs9hN4C2gqDsE5FVl/drA4gnfocE+yRdKwnZZyOlTFhmlNJgXGV3XW0TpWCHp5fkU5zojdbU+clEvmJaa3VMXbQJloe7SELsyELJwpSDveggssiF80UzZFaHtdBD3ywtwCvKOCeneqDAD92mLgPL9EfnVy0ZfAI1c1GNXaAuD0QuoIj5WN9HtYq72qbSJqJ0fpgXm+HwQ+YIc1CuwPaaeYCRBEMQZcmF/qUcQBHHZIINMEASRE2jKgiAIIidQD5kgCCInkEEmCILICWSQCYIgcgIZZIIgiJxABpkgCCInkEEmCILICVfEIJ+mdt0ikdPJfBr4aU6Zh4mNegoFlnwRlVf1nKIdd9QlhQwFWQWli39zpjp7Z/HMOSnVZfLPZ847AYQM8+tLREFllJjJEP0DCyPulXG2Xz/vFC0QByhUgHDHvxeS7D3kMB0wY89MU+mN0BBzdgro7gtH37+D/+Wrumc28eYNvoEDOnsTG3W5x/RUjlf35BWu/Tfbr6O+b3vnld5ZrMZdmnSKa2ew15fQ4s7LlfxH5iHI+GG4vl/yekjQ09a035R75tYalPHLM047TtV9jC6r0GsN7dmk7izfr/cKw9uJg65cLsbefUZNyqMuFzhgoga/87/+TrzO3pnVIWe/HqK16AS1FY+67Bj3gseMMeB5EhRlvpNVmzEnZHJJFKkDZpAqkiVyYjTumBct/3zAU5YU1qgjx8O9dUnXTu0aP6+f0/XrdKkcNQ+Ktl1UukI8a6VNp6yxp+uphedBI0bfL209RKJ5Lwvo3M2lNahjkAuTPZyFeAAM1JdE5LUxHvyEpzavXE2e3ELbiabJGEzZfJqUJz23pj9LMe3lbOrQ9WW6jDqKo3DpL/6cGDUaTfqNoZ4J80kGgxyvU6c3Qt8gxd8b5yZRMW6yoT/pubWG5VoN+cUQJhapptHYUKXGHHyYzZpqquGVyJROs0EOy0OABPp+qeohJcmNWlqtwQiDHBZ/mrTqJDHI2r3++bh2EqeZN6cmZRqDbIrhtOrw8G1uMCXNx82ypPkozhv0HT1NSP2at4P6jyLMdwz6jzklw5RFvE5d8bU6agd9DCeAUMJgjtQzaNwtV1FvCMftM4yfS07Zl0uocaWH2bM+cPM2qtf5tZMh+qijmkCCZ/xy4MnjeB/ZObzOZIxjLgMv3xPqrH5B6VwcWbQGk+APr5OHlVxrMA3FjU1Ynk5e9JRLmmuNXC8pDuNL12rMYX3adhJM2dlpUnqcQR3ef8T+fuE/AwOuyfjiN4GvfpVrPh7yCz/0NRv/6kN2aPgeP6Zd82ffZV8/+Bbw+uvss8und/a/HdSAzCmZ55Ajdeq4Ee0/mwFHQ7QbqsFJp3FXRPVmDe2nTtB4LVdRb7QxPGJGdbVURPmGxa8dA2mUFbgEj/qJkqjickvaPf0NQ4yLTOcCWZjWoPcQV3BsTz2pofNFCJ8yqStmFMPmkdNcm5YU7cTEmWlSnmEd/p//G/v76lshGo1v8wslLcd//c/YIU/zUbvm4Vvh8f3u/x6MI4qPw7QAACAASURBVKdkMMhJdMCYER08HsJ+2pYkZ7Jo3PEe9/YQ9rO+ZrxYPMdjG8NtC9U1sN7o8zHsp8cx8kZSjkSPJmmCTErU0TlYSDoXR7Z6COVoiDYXCU1saCLTImsNzosQhx3BAnspLuZaCa3tjF8OWK85dTuJ4LQ1Kc+yDoXW4kHLX4wTi3bKy+aYL/TNgMcx+RJhNnqBmWlk6mScDxkMcjKdOjZt0UJrWx7KZNO4Ez3MVhMB41UsrWLQbKHdKKEEMGN50ELrefJpADFkfVNKw2y/HrGnVRerBOL2XS4inYsjYz1EIYuEHnVTDHeTaA2mJ1B/R0O0wV+Gaa7lRtUTk53Y2NWnHA5aeCDtMvK1/NK3Ey1lZ6tJeWZ1WAZE77ssay0KHcUSV0nnmpBC/9EI32WxX2L6jbI2o7J7w7BzI4dkm7JY28LUhjQ3toT+zan6Zl2uot4AoD8ESe4NwHqYaBiM11oVFiD1wsuodhCY14umjK2THiDm6goFLD2uYxqh/lzc6GPUYVuKCnyoFyn9lDqdfKqmfEpD1FT1EGOs17bUsrhXwtSxAG8dIUlajr37d6/1Eu8uZaOnSmCKobhxHz2IeeECCuVj9E7MU1DR15ax5UjzuHeATX0o37CAe/7aw6rT90RxU7cTNWVo3lPbZeV5D1PR41vbguus+nVYPkbvxI87aVmJsM60Djf6vlEWOH1gmeUb93rSCQtw9NDKwfvvulxU1xTmxeDCOKif7dfxJu5nGE4RC2Fio/usii0qf4XZfj325U0QSbkgP52eYfg4OF1BnB3Owz5KVP4Ecark3yAfdflw+n7oUIw4fcp3w4fCBEEshgszZUEQBHHZyX8PmSAI4opABpkgCCInkEEmCILICWSQCYIgcgIZZIIgiJxABpkgCCInzGeQFY//BdVzf66ZAeuyQsGc7ITkXZRPVv8QxJxIahsBvyRzahbmmGg/LIsjoHyjno3Qh9S40PqPiyW7Qd4pACbnI2XdY1PemAHrUc5KiEuD5MHMvUI/bS5u9HOQX+bSNJnPDkKQzSAfdYFtAKgBJ5KbO+EAZHvX7316vUQ7RD8L8D0xFQwu+ExEXB/olc6AdeHlSTbG3JPUvu/FSwnztHq1ejxe2kU668GyC1zTjU6zOK7p9qFQANZt/1iophn8Xv9ON4WXLJG+EE0zEabSFrRr0tZDiKbcbL+OQrkNcB/Cau8sq2ZhjL6dXhqRmouyIjT7+Okwae0lj1vtIadLs6otmMSx1VAKX9cLjNGHDM+BWjZeGtLqaKbXyTx3MumMCO0qkzyL0MoSUjFG7SxZ68qgj+VpZ5kIuV6PT9IhcxtCn0v8r8Vz0jOHGSqtk7A89LSExSPKQlzvaOEKbTFxf2cUk2Y5zyFpMdaLdL2uTxYr/WMoW0UnzRCmHnbaeojTlJOlswzpTadZGK27GAg9UksvqIeo6jbqWnsx2nqhcae7b9SBIc3hElMB3Tyl/KPkyDQMmpx63mVpsfT6lMG8m3Qy80B6g3z4ruu+qulhyZ+Hb7GHqPW2qmsltK7EeaGFFdDKEuG/EQz78DBo8HVBxEiDLH+XDIVuCEWYSQUSwwyN/nLpICRtPG7Z4CovHp5WOZ1xaVbO63k2GGxFRFJKa1INNnG/XGZ6Xelh6vekqocEmnIZDHJW3UWVlJqLXlhhGpDRhjSQs1CDnJZozb+g7qIcX0aDbBIL1s8n0KdMr5OZDz6Tukv98RTMi/UPgd4e8Gva+V98zP5+eAj8/Bnw8Q/58b8H9n4A4JfAFwB88iGw9zPgY66Vtft1YFcO6N8Df/azYPj//An7e0N4ti0zszUPQmWhXFCPH4yD12bG4dM8FrDhO+zHHQs4aAPjGbDGVQ+ej/3pg44FbLeBZzOezhrz7/o0Js2v1QEMgKcOsDxm0zSdTe4bln9HGyhobsRfjlm6BDcSOjt/ysO50/SPbWyydYbnY0D2RCzCXKtqcaepB67jdsegKfcyWZLTwHQXBygE9PAsbOqHuJZee6WAlnaqZqvfnR1ZY6+GujF25gC+VV5CoQmg0Uvo7jPbfbP9uuKcPsqvce1aSYmvdB0YvMz+3MzGx0CjDjlUJhLg/y/0KfGsD9y8j+rLNvfZzCTe7i+nrK8ckX4O+V/9IfCvAGAK7Bj0sH7/v2XXtd5m3zf5w+dpYb0LvAp4WlibYQ98SPipGc+xgHecbieGo/WNFQfaQgUhijJXPegDD/tgCgrcaL18wAx6ox7jcJunebnK4tsesoYLJDOuzzM+THOLa0aRsh5Oi1S6i9FaemKutvKcLzqe9BBZglm19VLcJ+a8l5qrGLlCyipnpNGnTK2Tef5kW9S7wauprC0EHXX9nRdJe1Yl/u6zp8HBvmmFVjz490RXw7AYBvCeHoCjYXwaRJi6QXUXqTZQBK4DQFtdcLzHe5ZC5uqGBYC93YFVYJkb6W1+3c1qwjQXgZs1Fl9zAMCSylO8HKxgmT+SerhpEPV4T1405EOe66Xg9SZS1cOCNeViSKW7GKulx5TYeycZdn8EtPUWdd8Mw8cDLnyb3GipveEZxs/1XnM6iqVVVUoK4CMO74pE+pSpdTJzQmYJJyaVIjSvZF0sAJ2R2Zgaw+IGprmkrq6v2+brN/iAw9POWlKH48IwbFfUNAXgad9x+PAevr6XvgNiUfuJb/W0vPK0N3p+ecnD+I5mfFEDhJP4uDQDflnJYQFQjHXSfeSmXRoya7eZkZc1zZp8iiWpxluSPEl5WLimXATpdBeTaOnJBttBd6WF8FdJlLZeFOnv819wM9jrCbQNt3elnS1vonVgYXMeVZm12+g12qhIO4vsOy0MOpu+LFYCfcr0Opk5Ya4ZaNNKfdxOA9OCUmDnhOVGo12vL/rIi2z2KHwBK2qF37Q4FbY4knSXhSmewKKZtNAX2J2hlUtUmuPSJqdPX3w03Sfiilzo1HdaaOkNpMWwaJckTzJ8JwD7aAtpkYt6YqVdLExFL+qJtNW8uBC7KCR2IYiPsqgVSDeL37xDIF3cSrrTpFm71nKCu0H0/NXsHtvpECh/NQ9qWZvile/l8YpwA/fIZeWnxbyIZ857Xhf1yEE9kZyjLvC0eqFk1QniIpF+lwVxNZnYbKOES8aYIE4L6iETBEHkBPL2RhAEkRPIIBMEQeQEMsgEQRA5gQwyQRBETiCDTBAEkRPIIBMEQeQEMsgEQRA5IbNiiPyb8LP9jbiDrq4McU5xX2wtsGgNubTlurh6kPXXYrTYUtZHmjSmvlbytxGtNReHlqc8srB2f446hjl9dumXesSVobjRh7tx3qkgfJjuHuGTvod81JW0ymRvVmM8WDfpgwHx+mF12PtRWmaQrq2gjQFaK/KbNSpuaLprcW/kKD0vU9zA+KGknab3qiLidnYK6O7bqBs11wxMxLUGDbOJjbqsw2ZIi6LxtpPALWkkjqKl9iDgFF7VM6vrXrd2bKWcg1prcVps6etD7vUmS4MU2465jjxn7tsVrbyHSv6VNhdaj+F5AsDbUpQHOaEVN5Oul+MJ3ptFa6/+UPeZrT0zUe3OqLtnKhfelkVYCdp33HMenYeckMklkeZFS3hyMmtrJdQPC9Uy01HlcaLjdoOSMAHPUjLRel4BaR7hTUrTXfO8UMXEzbyBmSSADPC4dFmfgFevkLSwcvLjCuih6SUR6Q1Ly6eI27te98ZlSkt4nY06atsJlf5JWR8BSaaINMjXBrTmTGUltVdWtnob5WUfV48h8k/G/HKPcapmniyFFPS+xtI5j9ae8MSm1lGo5zX9GVC+yx7hYtrUIp610Dzkh8UZZKXBRmtxReuHJTEG5gcnGLf5gTbqbYl8Rel5GQ2AWql+Y4yP2+gyMAVBN4vRaVEfuOg6iqwDQzkFjJ1+r3RP8vaSxSCHlUFcGg3uIhs9d6S9yEwYDbJcr5GdAD0tUQZZ1eWb2jW31rHcmqIxF/7iiG4PYYS5AjVo3Cn3RGjkmcI2hKMY0bmetZg85Igz3WXhDRkinXEvEqa71i6r0yWyXpgM0/Mqhet5nWLcyfGHmsnD4vpzJdlxOFPcyIKpnIolv5TGLwfA9ZKqhLFcipYoyiMHLVSagwSO4LOQpR6ZEgZT6Zhh+Bio36pilStszJ71VQkjQJkG8LX7hHP/JfPQX7l/jGPUUJIVW6RnYjY+5tOXcjuXHNsLh/Mx04Wz8XGgzZQSy4LFPGsxecgTZ2KQU+uHLRgmS6N9zsin7+LiFg9wBcf2FK7rYmpfOBN3wbAwckewtisL3AkwXz0WX6ujtj2EgzHGB6soLZdR7QiNOXgSRp4hXmlhlbfBUUcKKKtGn4kGf66VT58rfBTRfOTHz4zm6exuOM/nfFGcgUGeQz9sbsy6a2HE63mdXtyxHA3R5g2/n1oix5QW1qvIgqmcZmO/lIx6ZpPxGY2KFkijhJJRjmkO5qpHcJHPY4z3h2jznnvpGteYkySMZs/6GHCRz60oObU4rT2TPqD0TBifmRDKd1247hS9xgD9Z+pzUSytBtpMcn3EmGctJg954oymLNLohy0Sg+6aQWfMI4Ge16nFnQS54R91Uwx1RVoeeA+cs5NALy0MXk67Ih8TG29KaQnqmTnoltuo2bdzrfgbRnHjvtYu5iRzPQJAEaXrA7SabU9MVGjMHevTFZKBm+3XpSmLNFp7/IV0T0xr8GdCnA48M1B3g+g7QyZD9A9qfk/eC6eqtpmJjd1tJCTuWYvJQ47IKHLKCm8p0dCjjC3HkuZ3dlE6GcFC8C2ZjDKqHbYtKJFhW9vC1AZaKyL+JfRvTkN6J0U0H03Re17xrm1dH0nDntOMO+bHCGtbGHX8ubjCvRKmjgUc9DFMMvxb28LUPvbu373Wm0PivYjmoxFWxRzkyhh1ZdhdxpYrnefD8/Q9QqYw3C6HDadT1kdmimje66EWMnXBphEqEds1JWLrMT5P5RsWAMmorVVhQV0jKG7cRw/+3O7Sy002NbI9hMPzA69++HRiyPC+uNHH6LoIawnjm/KUI2sL1nbFn78tAyOhXK3nd6WFVadv6OCUsXUipUm0KX0tIqJco5616DzkB1IMyRUz2DtDVO+e9dQOQeSP2X4dSy83L9w88DyQL4s8cfQA/WtVMsbE1cPwo5cHzQGsG1fHGAPUQyYIIic4O/LWPLZrInJB8hJCBpkgCCIn0JQFQRBETiCDTBAEkRPIIBMEQeQEMsgEQRA5gQwyQRBETiCDTBAEkRMWoqmXlvk0x64AseW7KC2yFOFMbKBQAJR6c4BCl/8/A9YL0veM7NdZPIUCkCRdR112behPp/V0OTz8rnZNHZDUV1AoAOt25mykRuRb5GMnRRlEYcyLEyyPM8lrTHtTdO7i9BQvJ6SpdyHJgxaZAxQqwBweMYLMgMeSy5enDrC26F9qlQGl7GbA+hJwUAPu8UPLTcBtLjjecyKQl9OotwWx3ET/spR7RhanqafoWSVxOjRUNNnU66M1unRkraygPliIdphJdVb6+aZQEpbD7h7punSy3l4d9pGkCbZuY6bpzql5DEmXoXyZTprtXd89CvY01DKQf4IapWeYFfFQA0A7vCcn93YDvWsDRw+AAwAdbiy2Tbp/jhRmSG9cjndfdwwp95CFMQaAAbDCe6imXqU4ZsyLFKYct55fvTyS9kr13nPYMRNKXk6j3jK0r6eSrZCfbe+ZjNNTvMRk0hnR5VaMOnbRMjSI0eAL1egyhRVIiyrhZNYOM8cTpvsmvnvpMMhQ6Zpy0DW9ND0wXVdN0QcLaBYG9dF0uaGgpFYyPcNwiSSJk57rAq7LJXFc1s/0P47ruh24bqPn5SFwDeC6UbJBHS0s8b+fetdtGMKUww2LF5ZXdv53Q3j21M+ryIv4rn/EeVN5QEt/XHnYNfW7nH89PV66a64bJ0Gk3GuqNx6WpIGXvN7i2peOeC40bUejTFOcfNflZAGLejPY99qo2fd9l3prWxh1Bmg9jHizdkb+79TXbvtOq48eoIUe7kuuGst3R7C2d4297vJdzfE9d0VohqkXMJd8zLXj4PGQv6GZI33FT2ujh9s8jcXX6qihht4tPoRerqLeUJ1eW3dEOsqodgBIfpTLNyzPP+1sfxdtOf+eO8QH4e4bG77zcRXuhOWOXwbFjT4vE67WIHnLYvlIycuXwL/j7rxffB948mPg8G1+8g3g8BD40RPgy4fA1z4LPHkCfP8jdnrzXXZefH7979h5+cPzgW0AsIA1ADd4LT6V/ezyHjQs31TIKhiYAfe4l2d7ys6f9CIyVgQeTYEGANSAExcwuQh92FLDdPk9B61gD9PR0iWcpq9tqSbO4fl7mcC1+3KVx8evnQxZOTTqQCo/3WXAHfH/eRmuFYFHLqB7VPPyyj+h7mrTty/L2fL8Lpdv9VBL6kL2CrAAg2zSa4vXwxLOtRlFlK4Dg5fjeI2uEPypBPnaaO2w4mt11ISz8MkYx6FGT7Cq6nLFoObRZ/ySy8bLeczqtN+kF2Zgbj3D3vfY3w8Pgb09YO+Qn/iQf9c+7/+Qnd79OvD66+zztuG6vT123RGfnuhU2d81/leethCqJPZt/9gN+fU79g22MCDCmGVGelF4RqkI3OHxKioV/GUSSJeEmEIop5EHKAI3awDa7AUw4Yb5ZjVFGAkR5d5cSrW4mrx9mbTtNDWPK0w+t71FanSpCEO81FzFyHXhuiO1hxylHbZcRb3B9MiMApGnCZfXUT9bC1fUWIie4bVrwMO32P+tt3lvV+shBz7Pgj3U7z8B/vmfBK8FgKfcQG1XuCGQ5jrPdQ6xNKdB54jdIA9Lag85Ka/V2d+nDi+rGqCrbiyEcrDeyuHzyOetl3nZWIBBNutZxelhDZSh2gzj56xHmUajiynvDri4YYwxM2qHcUWKpzZT8D2VBh7EqDmXlcgexnnqGXKWm3zYy4fKpoW6ic17oSE85vcIZevmA35CmqJgF3DjKRlxb5ojK0XguhamHG8pYamKF47w7ztOqegmevrbFVZWqacrUpKk3jK1L5O2XfwI76qwAINs0LM66qKyLc23mpDmhGf7b6J1YGFzoxiv0WXAfxnMYK/LUxbx2mFMfqeFFuKmKxZHUHMuRr4pEl0vDFp5nbaeYdu82q+v1Iseb8cwzH7W5+dG2lISNwYHfbZHeO22b3ALBaCwpBlbaSpBDLkTTw3wXRamnuCtnhqmiLfR86coklLm5ZFKRw/wpy043nSFaV91EhZQbwCytK+Atl0mzcrLyWI09da24Dqrvp5V+Ri9E/MUg6Bm1zHm1y81gd6J6OHGaHQp6NpgSxjfmaLXANpPHcN5g3bYchX1BlA7y+kKXT+sUMDS4zqmopeRSrNQ1wsT5b+Fcio9w7QCrGUgSr5+ox883+gFF4/kvccBdYgyXxwbAM9mYItwI+l8DbC1of/alhpvpxcz5SAZ8TCWm8HFwc4IeJRiz+xdLd0nfGHQ2PMMQUxbzDVdsah6Y2Gl18usoXdz7GnbtRCm5Renp3g5IQf1mMFefxO4F/0CIYhzZ2IDKy1mIOWXwcQG7iDdC4LIJfRLvckQfdRxn4wxkXfE1I6yu8IBVvrASf9ckkQslittkJmGVw29kz4JixI5RvqFXaOn7QkuAy4Z48sCTVkQBEHkhHzuQyYIgriCkEEmCILICWSQCYIgcgIZZIIgiJxABpkgCCInkEEmCILICTk3yKoyRrQWn6TAMYfeX1qy+6AA4nXDFqWdFxJ6VHmaFFVkJIWYhSg6BDTkNJ07I47qw2FROnTzklTNIxSTfwonlb+K6Hapt7s0WnfzxKuhaUeS1mbuDXIKjoZoC7ed5+XZ7IJRvqs6F0+D87SNmj2F6wqH/3NylzsUWgNUaaXQFEguOi8b3AWmu8W/n3Nel5voh7i/JRZLRoMcogeHtFp0wCI032b7dUmHTrzptXDlOCc26us27B1TemDwLhfsQTCdO5HOMR6sh6U/LH/z64aFlbVMlN6g3iORr60/DHOAyvJT2QZ3/C/KSW0TSn7iyhuQerchOndqrmK04YTStMkLmnzOcD7QuzWpaUu6fut2tPK1yFchrrev50/EmVAHLzER7U7WupPbv9xDntioF7qw5ec5okfM2pShdx2mzalobQbbs2JHlHAddOV0iTQpWp/5V7HOYJCZi8tj3jty3Sl6zytqxW5XMLzBnK5Pbeaxaenlpu8o3nO9yRvHdd9Z+9Suqa48E1Dc6DM/x7yHvLWmh8vSqBiCgxb613ge9F7iWhUWjn23gkdDtKG6+VT8Jx+0gTvcybwjuyKNyl8RzUfMM53lzNHL3K5gV+TjpIfjsjrF4zkO93xBV4yNUr12ivrzdogbRSbbM+qA95C3UIaDbkFuEyOsNpfUNhFV3oumLPeu25JLTVPPu53SWM6Adam3etAC7oX4Nm4uSX6eB8CdhKKmp0p4u2s/L3n1H3CBq9BGSzzP7ijgSlbgtylD73ptS3pmJU+O28conci2wzfWs/0684rotedVtFZkYy6l61ETxaMu9xTpSs9HsqmX82IBvizYA6r4mQpo0QF1RYuuxYzdcvBedv2cv80/eoDWgYXRI8/rMZr3euiv7MK+1efx1SIc0pdR7Qyw+2yG5kYRs/Exah0LeDzEbKOJou6QSMovM+bt082fTEPSH1xuYrPTQuWpg621MpuSkK8N1Rt0MNwGLEdM9fDyOkiWztn+Lpsu8h5u5paxUH4AZ0M8bBHl/eQJ8IL///2/A772LvDJ14EPysDDP+E6fNo9h28Dr/8hmGLJOtP0E2G03gZ+7xXgJ38L3PoW8Dd94Ms/Bl48Ysb41beAP/ptdu37fwrsDoA/fofdczxlx4+fAr/+OQA/BT4BgI94OnkYIl78FPjm19V7RBhePB+xtB78X8CTz8YX6Fd/U/rCdfAKFTAdvK2wu+bG12Vkri/xeIwZyobpP9nXOdOPbL8cA9KV4/06KtsWRm7K6UPJN7J4VsYToLzs4EET6J3I+plbGHUK2N2/jf4Gz4PnwpVpfVqO6xv75Sbu230sPXTQPO1OQUYyGGTmkL5VXkKhCfaGi52zjdeiY45+xLca6lEXxzAbHwONOhRFu+USVlOEUbpW81RNho+B+r0qxitDpmTyrA/cvI8ikHgxb5H5U7heUsq+dC34IM3261iSHKIHjDJXbagHtM6SMX45AK5vqm1guYRaQt0X7O0BP+D//9Ue8Bu/BLv1h0BvD/g1002f8r8fAns/Y/+KMP7xGbD3zL9m/D1g7wfAD7hVL/yAfQcA/Ar7873vAj//IvAx1wIcvge8+FUAIi08no8/ZOdX/8nXAyy8AuAj/x4Rxi/+nsfzS+ALAD6R0hrFV/8k/po8c9BC5QBAZ3NxkmSTMY4xQHulgJZ2qmYceDCtz/ZBIajH2dlcVKoWTrYe8toWXHeLzSettLBUaDGNuAxvHc9QNXqYuk0UJzbqK+fvvar4Wh215hDO3SrGB6uoPiqj1KlgeLSF6kugfivZe/888+cbYgsjt+9NLeSOw0M217oN4J1DYE1MLZSBh/0QqSIxt/oGcMh7jUoY0jWvvsV8Be/XmVKHdz7ims13uVc1Byg89eMJnAebQy63/WOBa0R+pLRGctF3GlgYuVUMCxV0b7iSuvq81CKEL8wvf8tZZPynz3y7LIw6dWk4Hc03oy7fZIxUKmbLVdQbxxjvD9Hmkk+lazUcj20MnyeVezoDTTtNm4/1VksoptIbNOjypSgvo0bgZLxgqagFIDT57kldqv1d9ve6phAuNB+PNEWPWF0/Ao0SSkJarBwuvZaK1OrUZq3PvJNxUS9apy4dp6D5FtDly6LdVUTp+gCtZhu1a+xhLZZWMWi2cJxK7umUNe0OWnggFukmNnY1LcNwvUEZXZePl1fCJAQ1Ah10y23U7NtzDlkjdO48QrThTAhNvoOWv0uiOQBQA0SZCYMr1K91TT6Trl9qneUF6ODNvdf59Clu3I9ZHEyDycBH7Z82aH2mlik7ezIY5AQ6dYnJosmVMI2P+M4Kod11Pf2USvmGBWUxii+KrSZVGo7N3wJ0wxoWcI+Hv9LCqiOGdHF6gyqqLt8SxjfTyLmXscV3VrC42I6L7PuTE+jcxWnDhYX7aKpp7FnMwbt4Ua9tcR0/jj3Srtd0/Toj4E6a1YksZMlrFGelV8faYC1kZ08m7chOGxVvG1sFiJqSWNvC1Iav9VlYQv/mPO3y9CEH9RcYbxsQ/RDm7BC6dqgx2aRl+HPG9lRT8yCIdFxpCSeCSM2ymGvm0yke8yhBEwTj8vx0miDOhDJw0gsedsJ2gxBEcmjKgiAIIidQD5kgCCInkEEmCILICWSQCYIgcgIZZIIgiJxABpkgCCInkEEmCILICWdikNNoZUVfG6NBl0L7a360tJxp3BnQ9Mvm0wLMSkottzi0PJ01cWWYL424BWtOkh7eqXAmv9QLOEonzp3iRh/uxnmn4nKTq3YvNCfpZ/a5JlMPOa1unvr2VDXmuvumnqVJVyu5Bt34YZh+H1JrbKkaXsLTVHhalLgDPZFoLcL6vu2dN6crRiew0IUj50+cN+iXBXp3Srmo9eHsFJS06ekL1znT055Syy2QLul8qCZbRHkpWn8hGmwRdWRG1VOUyyVVu5/YqEt5tAO974h0xWgWnormZGo9PC2+cxzZ5Bo3A1O75gJwLUf9js6IHTjpuTXU3N4J+zrq+OdGHbho9Nwpu9PtNeBCv1b6zsK23JF0vYg3wEnPrcEQvkiXY0lhBdNpzqd/fWRaRNwiLnfkWoBbs6fKdz/t7H5xnoUdnpZAXvTvSfLunePxie+OpcatfY+sE71M9e+GPPhlwMokur7kMuHXh+Qpurz0MtbCksIPq6NADLzde+d5HYj7k7d7ra0E6jImXfz6sHQGyypZW0oeXrLnVg5PLhvCJ7tBlh+EgGFTHzy/8EeupRsd08MvV5QSdhKDbArfckchPjPBlAAAGlJJREFU907tWkjD0B8CP37WsEwGWY1bzosxnpOeW+ONNlCmOiZDJ8cZmXc3wiCbjU7AmITVSaQB1jEbZLmM48pBSUukQTaglFFI3BF1FMiNIa3mcotp94Z8yAY8Nl0xHQsvPuUFnLItRYXnJmgjgXoylAnhLnBRL143j6lQaNctl1K7906VjuUSajjGeMI1tsrqEFbWmgumtablqYjS9WypGr8cANsVdfidwlk90wksxegEhuU9MmUYHwR9PJeuJawVIQZwmjLr0nDe1yVMjje1FlPemerIpGloUE+Javez8bE5nHnSFUGytrQ4ZuNjb7rEz0OYWMLV5spte2OSRtrnrBRoO6Ng3HHySrmHKWu7rotRR7zwFrTbRBjilRZWHT+OpAhDzKTomQx87Gsmr3WU13QlpcHrQPmE6eNdXc7WIC+XsKr32BauvWYKfxWl5ZQaW0YNrxnGz7OlythzSkEyncCwvEemzFgu45fpa6V814XrTtFrzKv4wpg962PADVF6ocr0eoaZ6ihU01Aipt0XS6vmcOZJVwQL0ZycNz7CyBn3kMuodgZo3ZG02xYuEDlA66FY95W13dJqbAU1vGb7b6J1YGEzgypEUHcu5V7gRDqBct5Z2cbr2hnK5aiLiqbNF8pRV90ZMRmifyDJXs2LZIhm+/WUUxbp9Awz1ZGsaRhabjHtnksZefFObOxK+Zy77egsRHNynvgQbDcEgHOYsijfnaIHXbstwfwzgGRaYBZ613b9earOyNfQSqmxVdzoY2ofe/OjS81VjLxhYlpdsjK2TlQtwnTyS0l0AmuwsKuc9/MeoV+2tgXXWfXLpXwcIbcevFfROVN0/YJ5SFNmxY37UlspYOnlJqZ2zVc4j9Rky6LXmKGOOj2UhKZhuQ0rJO/R7V6Ld2WMul2Tetrzth2dBWhOptLDK6L5aARLngcvQ3qWCMH5O6if2KivjLFJlTMfExv1lT7qSQ0pcb7EtPvZfh1LLzfPbn2DyAVn3EMO/lTWedjCoFMlY0xcYmLafWD47uBBcwDrBj0VV40zn0NWh5EFVJByqEQQF46Ydq9P+8TJ2xOXlvOfsiAIgiAAXMF9yARBEHmFDDJBEEROIINMEASRE8ggEwRB5AQyyARBEDmBDDJBEEROIIMMABMbKBSAdfsMInMMcTlAobv4qPbrLK4IdZWFI8pS/ixEa20GrNcBSWHj7OpsQRjTrNX9Di+z03BjGkdsezG13QXHt18/2/aaM8ggA8ByE3Bd4FHzHCJ3gELldILe6LN8ZXCGlImjLrDSCh7frsz5wpkB60vAwRxB5IFAOzPU/V2XXXMePwo56/aix7dfB8L8k18RMhrkaN0xWWvPpB2XRo8vlRaX3APZkXpo8htXHN/p8vNdc8/lqKv28vQei3i7FwpAQeq5pSxH/4Fsh/eMvJ6EHRKn4+dlR+qVhvVAQtPtqHlO1bN1gDL3YGZP2YPmuoA78vMn0hGbHxnZGA+AFUMPTq4r/ZzcDqJeCknajnxdWBnp7UZuU0o7C6l7uYcswpLTII7t+B4NU9WZUv/a9ab2IpeFsdc+R5uR45ONcXPpYo18Fkl6kRFd8kf9rmqHuVwuJqi/l0yPL6UW10nPMwOBj5Dq6WjHOyP/vkbPS3NkGHbNcN5KWH4jKa5ReBwyxvjkOEPCEfeJ8jOGU3Pdk5Aw5HvjEGVmqhuvXqzo/IjyV5i6bsOQptC6Fvlxg3UdGoebrO2EXSPCDDsvte3Yuu/IcY6CaTadT1pnYe1abx+R7UVOz5xtRo5Pjyusni45C5iyYIoRws1j+a7mEHytCku/pdHDbT4kK75WRw2SD9nlKuoN7sf26AFa6OG+NIQq3x3B2t4Nuvz7t/8W+HfCxXYZeHgIHB4Cmzzc/+Md4MkT4AW/pPU2O//lH/v3fXIMPHkP2OQ9vXd4GO+8IYXxHnB/AOANds473wa+8R6LI/LzfSmuHwOHb/ME8fB+ZLhHKjfWXKdAAyxOvdfihA15Hd4DqQEn/Bq7BmAAPJsBR0N2mde75XE0H+gBmRnzMrxWCp5brvL0aoj8nPTY9wOTC/Mi8Ejkl6ddGVJL+emA5WfC87stxSHye9CKmZ/VywfAU97re8inY/Qy0sPsjFQTZfTVUoY/erBC6qzM8nTQV/MEi12btc6UEYxengLH77GKNuVoT/K8bUZmo++Xtz09p+nD8+cz6W9hDs1b5SUUmmDSLAa/rLP9uqJXFzDKCmZ/yEyLq42lgj4vWUPPFEzve+zvl34FGOzxg7/C/nzvu8DPvwj8gB/+x2fA3jP2/y8+Zn/H3wP2/gPwAQC8Ary/B7zPr//qV4GfPwP2PuXnvwO8/h01/id/Drz4jcicAp9Kcf3A/44Pgb2fBS//l/8S+C/5/3dEIy0CdyzgoA2MZ9KDbIXPPU64sWvUAVHWG31gg/+/zw1qcwlQnoVjZgxOw6XnzSr7Kwx2ljliOT/X+AsG8PN70AL09jOeAWsh86SdTal8NplRes7DEsbQM2B6PfB8bFf4tWDGZZ452RsWsN1mL82SMIC3eT5S1tlaNXi9Y3oRQGovPf+8uF+QNn4ilgwGGcyhubvFfbq2mMHsMO9VviG2MHL7KMNBd55FqxCDH+Bf/Avgv/v/2KLSb/3PwYWTV99ix3YK7GF559BvaBOb3ffqW8CjEp/bewM43DJEFLEIp8QbhpYeL7yw+ADsP2V/owzJqTFI9nCVVtm1L8eAXluTYb4W5ExpFDwfA0ZnsKUEL40i8MiF0kaaS8DjXvYenzCCj4fA9TaAGhCrxhJWZ2XWkxXtHQDKBdajX6jHxYRthggw35TFchN914XrWFzFYYbh4wEXEp3f4XxmLS5viAdgf5f9vW4YShsp+dMBkqSOvxgjzlvB2bPTHmY95j0kzAAhAVRKaKCXef7l4bW8QFTimsP6cNY4lDYgDMd2RVsIc/yHv1MN3HZqiPzKUxaRUwic0LZTBK4DSrsIrYeyNqXRz7joy8PqgNXbNtQRQdY6E7s9xJTJ9tBwjaG9iPIQzNtmiAAZDHJQh8552gYkJ/O+YOYM9vocct+Ztbj4anyh4M+DJXb2zYehAOvdFAq+QbnTZOdv1uCtjJt2YmTaS9qO3zN80OJxiV0HEVMUAcr+HF2Zp6/Me1y3yupw1rRLIHbfb9mfY1TCEKMJawG9MF6vCSWzPEOm1FPcjpiItnOLT5R5+eP1IIb1+g4L73w9prcYU/e3pAm6m9JLLa7OdPQdFqJujC9KQ3vRt6TN3WZCaC7NuU3y4pLBIBfRvKfqe1We9zC9WzacW8L4zhS9BtB+mmYLlRRXFi2uRo8v8HDsabo39tpWcAFDDkNegMgah0c5GFYYtjxzXgNOQqY4wjCl2+lzYyEvMgmsdL3+tS1/gU6mMwLclGlVkF6Sabjrqu0AkPIbQlTbWW4G89cZ+WVkajeRZZiw7r1FUX26ImWdmeq/0Qt/UW70tbLQ63YBbUaJbzPbfZeIy+WgXsyNNeaYs8sjYo/mvAtERDiXte2cN0dd4Gl1wXPUl5dsi3oEQRBxTGy2PuqSMU4KGWSCIE6H5SZwecbfZ8LlmrIgCIK4wJBzIYIgiJxABpkgCCInkEEmCILICWSQCYIgcgIZZIIgiJxABpkgCCInnJ9BntioF+pBv8Zzw9RMuqekSTbbr0erluQFuXwXXNZC9YVxuuV9MXDQnat8z6kME/mFyQrzeROep3nL7HJyfj8MWW6i79JPVM8EKmuCuBBk7iHH6ebV921Pd6975KBb6MIWunnrNmZery3oPU6E7x+L1vBT9fgMrgTVq1WNvkIwbi2nUtx1PHipnT7qquUgehymXmlcj0QLS+1dRKXbUL7yrYG0RJTnxEZ93Ya9E17WS80BsF1R43naDZaBEr+cdiktExt1Oe2m9Gso9R0IS61Pdi1LD2tTjlSOeg8tRr9RyweLh/n7bmOA1opUZ5F1mbbNJsy/KQ9zKn7Lz7l4puW8qGkR9T6Dvb6E1gHQLpuer5Ay09pl9HN5Scmi+5RMN0/o4rmu645cC5oWnqSdN7VranjuyLW8+9m9lqc1p+rssbgsV4Q86kBJiwq7V05HMK1KTl0LkqbfSc+tQcq7Y0Xk06wHWIvQO5PzYdIWDE93dPmqYUWXp8hjaDpF3F5cPG6v/rS08vD0+LzrRZlq4YXFH2grernJ35V8G9qGUn9x+o16ucnf5fZqSJOWjnRtViMqv4F2Emw3kWFpxKVTP69+Z3GH50krs0C9R7eDy0omgxxEbaxmA6tVTqjBcFlD4ferD798r+WODA+RMa4o9LhlDA02mDcV+SFWr9UboIy58Rrzbkx38vKNLk89XDMmgyzHHVdGynlDfOFCtuYyVF90wgj1EgjkSu1HanOm+KLzJKcrri7nbLNRRtR0LmX7llIczIfycjWlWc5bOoNsLN+YF8ZlZK5FPX+4MocTesATNu0/Y0MU52kbtZtVFAGMX/LhsTzkXWlx5bQxxgfAqqLWUELJJKip4Q3FvLAM+RsfA40SZK2RolBJkJGGspVt6drX6qgJxZPJGMeNOqpGX7wsH+2yOiWxpDsET5juKKLL8zTxh6OmfCViMsYxH+bK6ZfLXPjkrm23AgK5AFBTRFiLKF0HBi/HXL+xhSVlasVv1+OXA+B6KV5KLLYus7dZAL5og2EqxNResVyCocUmYIzxQU3VupTDmoxxDO08L89MsZnKd7mEhJ7CLw2ZDLIwxEvNVYxcF647ihExjaOI6s0aBo+HmMHBcLuGuuyIuzOCy3rz0iebRJQwaJXnPUxdF+5JL3ulC0O80sKqw9I1kh16L1dRb7QxPAJmz/oAf8mEYTl6Hl243I/sQtO9wPKMRxjiCo7tKVzXxTSpQ34jNfROguXUN/mJTiv/1eBlq3z6aGbQhouqy/lgKu+irTHDT7sVLguZJJwWqZsnYL3JPob7Q7SlnmTpWg14Pg5Z5GE9C18yChA9EDPM2PdOXLgJhFNNmn4zobQLZmQH3LhtGdVC2Ium/dTG8DHUl0xsPrKnO4ro8jwFjoZoc0NnNJppWC5hFQOMI43PDPadFmCPgvJfYL1h+drxc9ZrjtNvTF5ucXWZts2GU77rwnWn6PHRpTEPkzGOwwKIpIRSQytrOSxjXbDyzBSbqXwn4zMYueWLzFMWC9PNE/Bpi1azrQxdihubsA5aeFNfOV+3MUMRzTsWBs0H3qq+sxOXFrkROehGDdf58HBXEjt9Ux9uS41otl/Xhs/8RbPdQgth0xUAvHy8KfV09N0nKdIdQXR5nhKykTjqZp+yQBm37RraZXkXh7qHd7b/Jp+qKPOpi4q6w2F71y/jowdoHVjY3CjG6jeKcnvghWXeHRRfl1narIS+U2cyRP+AjygDeWAvp0FnM0Mvn3cmpLJ2HsptLlgXs/03/fJMG1ugXTroltuo2bdPaeSWUzLNPIuVcYhVV3U1N/WiHoet0hoWArT49Ml/cR8At2b3ohdI+I4Q9qm5vZO41Vy+iwBwAcvtKXnj+RbnO6PAyrN5EceMnA/oaYpMd8pF06jyTLCo599vuaMEi3pidd6LS97dkGpRzxBeYNeEIS28Pli4llSfej7luoZrXiBT61tPk7r7J6Qu3eg2m2jh2JR/dnegTYaSYNFMjoul0/zMmsrLOxeSBr3M9PK/ajssXNd1yUH9qTODvf4mcC/bXCSxOJydAioYLWgu9zSZwd4Zonp3vumpxeOgW9hF6YTa8mlBvixOm8kQ/cjpCoLQOHqA/rXoBeDTJzglM9vfVdZ3iMVDBvkUcXYKKKz0Ub+Xt54OkWvWtuZfAJ0btn0QzSV/697jOqZzLioT0dCUBUEQRE6gHjJBEEROIINMEASRE8ggEwRB5AQyyARBEDmBDDJBEEROIINMEASRE07FIJ+37pyzIyklHHWVtCjn4kOS/CTEaYTlAzV/snpEUKkkXVkEkdUiTr9cLoh2n6LOQrpyRDrOT1PvFCnfdbGYzdVlbF3kbdqTIfoHFkan4lrT9/pn9nR3RSH9QmIOsvtD3nEUva2onkuo/p5BYy6sdx04btCsc3ZYOrye31EXhXKbOx6X4xkq2l3RPZgCukdxGmHwtOEcWUttx9F02JLq7UVrCMbptXnXrLQwAHNmHq5PNlQ0A5NpzDnoFvzyUI+bNdGCOotR4WcjWv8tXJPQNFJQlbVTpFPRisygK6fUbXTvOUwjUC2HsDyGeasjzpUsHomEFyddh83krSpaf8+s72b01CbLDLkmz3Aj11K8eo38+AKex8L1zVTk9MVI0ujacIpHNP9+Wd7GrLenn9O+x+i1KXnXyiyQu7k05vTyiNZEC2oXxoUfSG2kF79o/bcYTcKA1zM5bynTadBCTKwrp2s0BjQbtbu1thzwnibny9hurpY80kUgu0HW3AOGa8npqA9WcgOiNu5RB67VsVTDy/+PNchhYqCRaU1ikKMNjqxFF663F+WuM157L7VBzqgxp6clThPNKE4aGX4gtREGOU7/zUCUJqFcbmnTmdkgm+s9yvgHzgVeLOFiwZF6jcS5kX1RT9O/ilNUCNPfK9+w/PsmYww61ZD5TqbXxRzjOxhuW6jeKqHG73WetmHdyJ9bRVU7zSdcb084MF8yDI+Ta+8lJavGnE5aTbS04UcTo/8mYdYkLKPaAdpPuYj9s77XDhebzrg8BNtL6VpKuStdU8+D5VEIS4xfDnL5vFx1Tn3bW6z+3loV1kEfw0m8US3fsJju3mSM40YJpeUq6uhjOJlh/NxC9SItLkXp7a1tMQ22kx5qwhhI83+np9emsUCNuXMJXyJOk7B8wwK2h3DEYqXcDs8wnaeJ9/yIDs1Fel6uCNkNstYbNqvyJtHfK6PaGaD/zI5vJGtVWAdjDD0DVkTp+gDjZ0P0r4f1rPNKAr295Sb6rgvXEcYiTq8tPVk15nTSaqKlDT8m9mj9tySahGtVWGhjuM92poh2uNh0RmGu2/HLBarKic7P/hDt0JEocZ5kN8iyvtjExu52Db1b5iqO098r37AwaLYSNJISSo02Ws2BN7QrXauh3Wxh9QIOv8x6e8HVb+dpG+hUUU6kvZcSSWNO0USL0ZgL5CWtJlrK8KOJ038D4jUJ+bRFs4WBPOxfaDqj8xCo26MuKhHPVXpY56fVzOf0HjGPQW5YwD1/Pm7VMQ3hdCfXSxjfmaLX8OfrAPDeCRI0EvbgAVIP5rU6atDmD2XWqrAOWliaewO+eOjn+zGFwnIV9QZQk6crDI7BK897mIopibUtTG2gtVLwyrR/c5rZoXnNrmO8Iuaigd6JGMkU0Xw0grVd8edOy4jY01zGljvCqpfuCo7tqHSlDT+a4kYfow7b4lcoFLB7rQfLaxdlbDmWNPe+i9LJCBaYWrOXgxtsMi1QH5nTGddmuIFc4S/UtS24zqpft+Vj9BYsl8TySNMVeSWTg/rZfn3B6gEOuoUhqqfyA4Y8Q3p7pwfpvxk56qLwtHoBdAWvJvnwZXF0Ree0SG9vQZD+W1LyuhuJYJyzQea/gCoDoyv2xia9vUVC+m+x8F+MVjCin7rnGNLUIwiCyAn5mLIgCIIgyCATBEHkBTLIBEEQOYEMMkEQRE4gg0wQBJETyCATBEHkhAUZ5BmwXgAK3cUElwgHKCSI86gLLOqnzomgsiAIIhuXu4d81AXKi/dceyGhsiCI3JPdIO/Xea+sAOybnBM6/nnxOdLPST26oy4PS/JaJsdxFNHznNj+dZJen2eAtivqfTtyuuTwpHTtaOHNUxYib6Y4RdrX7WB4slbeRSkLgiAyk80gH3UBWaWiWQEO5AtmwHoleF85xTBej6P8ZsiFbWCl5X/drqiGTGenAGxr98vGUBwT18T97j+uLCa2oWfaTmfcLkpZEAQxF59JfceT94BvcgOz+S7wlc8BP/lb4Na3AHwEPHnCzn3tEPiauOmnwDe/Dnzw18Bf/Bbw+Y/4cen6F/zY8VPg1xGM48Uj4BvyPSIMAO8cAl8C8P6fArsO0H8P+MpvAe+8AXzjO0DrbeD3XgGevMOMy6tvAX/02+ze9/8U2G0Bu58FvmQI80dPgCdhhfEp8B5Ppz0FNorMAMtGcbkJyLLw4vzzMZDIndIMuKfFcdQFyiGOyx0XWAPrUTcHwHgGbGwBDtiLoTMC7pYBOKwsGj3gEU/ffh1otoCjJgtDD5MgiFMlvUH++P8FPgCAV4AXB8ALAPgl8AUAn3wI7P1Mvf4HT/g1APBDoLcH/Nqn/Lt0/af/if0dvge8+EWCOEQYrwDv7wHvA/j0UymMX/XD/PAQ+Pkz4Bcfs+8ffAt4/VtqOve/DXzxF8Ewo/jv/2veG7aYoQSA5SrQgDZiANgUgGHUEMs4GMfabaDRNsRh+YaztAqE6nUAmPCplYMWUGip58YzyQBbZIwJ4qxIr4s6cl3AdWFJx6au25CPie811z0xfTeEYdfYMXuaMA7DNY4lhSF9l1SY2T2GT2cUEu+cZSHibPSSfXdd1+3wNDlJyzsPZUEQxLxkmEMusR4g2v4C3NEDbd50yL436sAy4PfydI6BCQDMgMdyby5BHFlY5sI8jV7QDGVy/5kgnc/67O/NKvs7CVFnOxDHHW1e96KUBUEQ85LBIBeBO1w3urnEVt/DtlMdtPhKvT5UF0ZmAKwUgMKSZmBMcRzzezKwXQEKdWBSBjpyusSnzl8MBky7ICLTGVIWYeeFYUQ7pKxyVBZip0dW/T6CICLJtstibQuwJRH1Tk81EMtN7fwIcCwAA+DZDEARuNeTbrD4+bA4asDJ/QzpvB00XHddZohknD7vyWcgriw27qvfHR7/QZ8bvrKa90ZPDS8QR47LgiCIucivg3qxJUveFVCoALAAd+ucE3fGUFkQxJUgv7/Uu8Z7hNsVdSjfqZ5fms4LKguCuBLkt4cMBH+4IO+ZvWpQWRDEpSffBpkgCOIKkd8pC4IgiCsGGWSCIIicQAaZIAgiJ5BBJgiCyAlkkAmCIHLC/w/D+bkXCJedbwAAAABJRU5ErkJggg==)"
      ],
      "metadata": {
        "id": "mTTZKTpdi8eb"
      }
    },
    {
      "cell_type": "code",
      "source": [
        "prompt = f\"\"\"\n",
        "proofread and correct this review. Make it more compelling. \n",
        "Ensure it follows APA style guide and targets an advanced reader. \n",
        "Output in markdown format.\n",
        "Text: ```{text}```\n",
        "\"\"\"\n",
        "response = get_completion(prompt)\n",
        "display(Markdown(response))"
      ],
      "metadata": {
        "id": "SkwcufZ9jFfW"
      },
      "execution_count": null,
      "outputs": []
    },
    {
      "cell_type": "markdown",
      "source": [
        "\n",
        "`Title: A Soft and Cute Panda Plush Toy for All Ages`\n",
        "\n",
        "`Introduction: As a parent, finding the perfect gift for your child's birthday can be a daunting task. However, I stumbled upon a soft and cute panda plush toy that not only made my daughter happy but also brought joy to me as an adult. In this review, I will share my experience with this product and provide an honest assessment of its features.`\n",
        "\n",
        "`Product Description: The panda plush toy is made of high-quality materials that make it super soft and cuddly. Its cute design is perfect for children and adults alike, making it a versatile gift option. The toy is small enough to carry around, making it an ideal companion for your child on their adventures.`\n",
        "\n",
        "`Pros: The panda plush toy is incredibly soft and cute, making it an excellent gift for children and adults. Its small size makes it easy to carry around, and its design is perfect for snuggling. The toy arrived a day earlier than expected, which was a pleasant surprise.`\n",
        "\n",
        "`Cons: One of the ears is a bit lower than the other, which makes the toy asymmetrical. Additionally, the toy is a bit small for its price, and there might be other options that are bigger for the same price.`\n",
        "\n",
        "`Conclusion: Overall, the panda plush toy is an excellent gift option for children and adults who love cute and cuddly toys. Despite its small size and asymmetrical design, the toy's softness and cuteness make up for its shortcomings. I highly recommend this product to anyone looking for a versatile and adorable gift option.`\n"
      ],
      "metadata": {
        "id": "MXXkC8EgjQNe"
      }
    }
  ]
}