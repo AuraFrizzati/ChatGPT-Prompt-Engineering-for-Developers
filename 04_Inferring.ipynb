{
  "nbformat": 4,
  "nbformat_minor": 0,
  "metadata": {
    "colab": {
      "provenance": [],
      "authorship_tag": "ABX9TyMNgXxyjYPZTpT4FwsliOOW",
      "include_colab_link": true
    },
    "kernelspec": {
      "name": "python3",
      "display_name": "Python 3"
    },
    "language_info": {
      "name": "python"
    }
  },
  "cells": [
    {
      "cell_type": "markdown",
      "metadata": {
        "id": "view-in-github",
        "colab_type": "text"
      },
      "source": [
        "<a href=\"https://colab.research.google.com/github/AuraFrizzati/ChatGPT-Prompt-Engineering-for-Developers/blob/main/04_Inferring.ipynb\" target=\"_parent\"><img src=\"https://colab.research.google.com/assets/colab-badge.svg\" alt=\"Open In Colab\"/></a>"
      ]
    },
    {
      "cell_type": "markdown",
      "source": [
        "# **Inferring**\n",
        "\n",
        "The model takes a text as an input and performs some **analysis**: e.g. **extracting labels**, **names**, understanding the **sentiment** (positive or negative), etc.\n",
        "\n",
        "In the **traditional ML workflow**, you would have to collect the label dataset, train a model, figure out how to deploy the model somewhere in the cloud and then make inferences. This process could work pretty well, although it requires **a lot of work**. Also, **for each separate kind of task** (e.g. sentiment, extracting names, etc) you would have to **train and deploy a separate model**.   \n",
        "\n",
        "Using LLMs, for these kind of tasks, you can just write a prompt and get results pretty much right away using just one model.\n",
        "\n"
      ],
      "metadata": {
        "id": "3nP3dQ2NINwI"
      }
    },
    {
      "cell_type": "markdown",
      "source": [
        "In this lesson, you will **infer sentiment and topics** from product reviews and news articles."
      ],
      "metadata": {
        "id": "ePpb6VCkJYoE"
      }
    },
    {
      "cell_type": "code",
      "execution_count": null,
      "metadata": {
        "id": "TXA9YqEDIJpM"
      },
      "outputs": [],
      "source": [
        "import openai\n",
        "import os\n",
        "\n",
        "from dotenv import load_dotenv, find_dotenv\n",
        "_ = load_dotenv(find_dotenv()) # read local .env file\n",
        "\n",
        "openai.api_key  = os.getenv('OPENAI_API_KEY')"
      ]
    },
    {
      "cell_type": "code",
      "source": [
        "def get_completion(prompt, model=\"gpt-3.5-turbo\"):\n",
        "    messages = [{\"role\": \"user\", \"content\": prompt}]\n",
        "    response = openai.ChatCompletion.create(\n",
        "        model=model,\n",
        "        messages=messages,\n",
        "        temperature=0, # this is the degree of randomness of the model's output\n",
        "    )\n",
        "    return response.choices[0].message[\"content\"]"
      ],
      "metadata": {
        "id": "NC9yK9wjJhJ7"
      },
      "execution_count": null,
      "outputs": []
    },
    {
      "cell_type": "markdown",
      "source": [
        "## **Product review text**"
      ],
      "metadata": {
        "id": "Wb3-Vn59Ji_O"
      }
    },
    {
      "cell_type": "code",
      "source": [
        "lamp_review = \"\"\"\n",
        "Needed a nice lamp for my bedroom, and this one had \\\n",
        "additional storage and not too high of a price point. \\\n",
        "Got it fast.  The string to our lamp broke during the \\\n",
        "transit and the company happily sent over a new one. \\\n",
        "Came within a few days as well. It was easy to put \\\n",
        "together.  I had a missing part, so I contacted their \\\n",
        "support and they very quickly got me the missing piece! \\\n",
        "Lumina seems to me to be a great company that cares \\\n",
        "about their customers and products!!\n",
        "\"\"\""
      ],
      "metadata": {
        "id": "ilwPK3j_K6xc"
      },
      "execution_count": null,
      "outputs": []
    },
    {
      "cell_type": "markdown",
      "source": [
        "## **Sentiment (positive/negative)**"
      ],
      "metadata": {
        "id": "PxEkbuoaK_Xz"
      }
    },
    {
      "cell_type": "code",
      "source": [
        "prompt = f\"\"\"\n",
        "What is the sentiment of the following product review, \n",
        "which is delimited with triple backticks?\n",
        "\n",
        "Review text: '''{lamp_review}'''\n",
        "\"\"\"\n",
        "response = get_completion(prompt)\n",
        "print(response)"
      ],
      "metadata": {
        "id": "8Zsd_f4hLGU-"
      },
      "execution_count": null,
      "outputs": []
    },
    {
      "cell_type": "markdown",
      "source": [
        "`The sentiment of the product review is positive.`"
      ],
      "metadata": {
        "id": "SsLzouGILKL-"
      }
    },
    {
      "cell_type": "code",
      "source": [
        "prompt = f\"\"\"\n",
        "What is the sentiment of the following product review, \n",
        "which is delimited with triple backticks?\n",
        "\n",
        "Give your answer as a single word, either \"positive\" \\\n",
        "or \"negative\".\n",
        "\n",
        "Review text: '''{lamp_review}'''\n",
        "\"\"\"\n",
        "response = get_completion(prompt)\n",
        "print(response)"
      ],
      "metadata": {
        "id": "1Nff7iMULPwX"
      },
      "execution_count": null,
      "outputs": []
    },
    {
      "cell_type": "markdown",
      "source": [
        "`positive`"
      ],
      "metadata": {
        "id": "FR146bSBLVJa"
      }
    },
    {
      "cell_type": "markdown",
      "source": [
        "## **Identify types of emotions**\n",
        "LLMs are pretty good at extracting specific things out of a piece of text, inlcuding words expressing emotions"
      ],
      "metadata": {
        "id": "N_wovmzGLWaR"
      }
    },
    {
      "cell_type": "code",
      "source": [
        "prompt = f\"\"\"\n",
        "Identify a list of emotions that the writer of the \\\n",
        "following review is expressing. Include no more than \\\n",
        "five items in the list. Format your answer as a list of \\\n",
        "lower-case words separated by commas.\n",
        "\n",
        "Review text: '''{lamp_review}'''\n",
        "\"\"\"\n",
        "response = get_completion(prompt)\n",
        "print(response)"
      ],
      "metadata": {
        "id": "0ZZsiH1tLU4t"
      },
      "execution_count": null,
      "outputs": []
    },
    {
      "cell_type": "markdown",
      "source": [
        "`happy, satisfied, grateful, impressed, content`"
      ],
      "metadata": {
        "id": "Aj-7XFAHLmnp"
      }
    },
    {
      "cell_type": "markdown",
      "source": [
        "## **Identify anger**"
      ],
      "metadata": {
        "id": "9irTPsiKLstP"
      }
    },
    {
      "cell_type": "code",
      "source": [
        "prompt = f\"\"\"\n",
        "Is the writer of the following review expressing anger?\\\n",
        "The review is delimited with triple backticks. \\\n",
        "Give your answer as either yes or no.\n",
        "\n",
        "Review text: '''{lamp_review}'''\n",
        "\"\"\"\n",
        "response = get_completion(prompt)\n",
        "print(response)"
      ],
      "metadata": {
        "id": "0D_iEUOGLwfy"
      },
      "execution_count": null,
      "outputs": []
    },
    {
      "cell_type": "markdown",
      "source": [
        "`No`"
      ],
      "metadata": {
        "id": "lKuIRZODLyBW"
      }
    },
    {
      "cell_type": "markdown",
      "source": [
        "## **Extract product and company name from customer reviews**\n",
        "\n",
        "**Information extraction** is the part of NLP that relates to taking a piece of text and extracting certain things you want to know from the text"
      ],
      "metadata": {
        "id": "zsE8_9PsL0Vt"
      }
    },
    {
      "cell_type": "code",
      "source": [
        "prompt = f\"\"\"\n",
        "Identify the following items from the review text: \n",
        "- Item purchased by reviewer\n",
        "- Company that made the item\n",
        "\n",
        "The review is delimited with triple backticks. \\\n",
        "Format your response as a JSON object with \\\n",
        "\"Item\" and \"Brand\" as the keys. \n",
        "If the information isn't present, use \"unknown\" \\\n",
        "as the value.\n",
        "Make your response as short as possible.\n",
        "  \n",
        "Review text: '''{lamp_review}'''\n",
        "\"\"\"\n",
        "response = get_completion(prompt)\n",
        "print(response)"
      ],
      "metadata": {
        "id": "wUFSTy7gL3WT"
      },
      "execution_count": null,
      "outputs": []
    },
    {
      "cell_type": "markdown",
      "source": [
        "```\n",
        "{\n",
        "  \"Item\": \"lamp\",\n",
        "  \"Brand\": \"Lumina\"\n",
        "}\n",
        "```\n",
        "\n",
        "\n"
      ],
      "metadata": {
        "id": "9b8q_iY7MTbi"
      }
    },
    {
      "cell_type": "markdown",
      "source": [
        "## **Doing multiple tasks at once**"
      ],
      "metadata": {
        "id": "SghTJSMKMbw4"
      }
    },
    {
      "cell_type": "code",
      "source": [
        "prompt = f\"\"\"\n",
        "Identify the following items from the review text: \n",
        "- Sentiment (positive or negative)\n",
        "- Is the reviewer expressing anger? (true or false)\n",
        "- Item purchased by reviewer\n",
        "- Company that made the item\n",
        "\n",
        "The review is delimited with triple backticks. \\\n",
        "Format your response as a JSON object with \\\n",
        "\"Sentiment\", \"Anger\", \"Item\" and \"Brand\" as the keys.\n",
        "If the information isn't present, use \"unknown\" \\\n",
        "as the value.\n",
        "Make your response as short as possible.\n",
        "Format the Anger value as a boolean.\n",
        "\n",
        "Review text: '''{lamp_review}'''\n",
        "\"\"\"\n",
        "response = get_completion(prompt)\n",
        "print(response)"
      ],
      "metadata": {
        "id": "vogtxzDvMjog"
      },
      "execution_count": null,
      "outputs": []
    },
    {
      "cell_type": "markdown",
      "source": [
        "```\n",
        "{\n",
        "  \"Sentiment\": \"positive\",\n",
        "  \"Anger\": false,\n",
        "  \"Item\": \"lamp with additional storage\",\n",
        "  \"Brand\": \"Lumina\"\n",
        "}\n",
        "```"
      ],
      "metadata": {
        "id": "kYbd_ybrMrbX"
      }
    },
    {
      "cell_type": "markdown",
      "source": [
        "## **Inferring topics**"
      ],
      "metadata": {
        "id": "I7EQa9g_Mxpb"
      }
    },
    {
      "cell_type": "code",
      "source": [
        "story = \"\"\"\n",
        "In a recent survey conducted by the government, \n",
        "public sector employees were asked to rate their level \n",
        "of satisfaction with the department they work at. \n",
        "The results revealed that NASA was the most popular \n",
        "department with a satisfaction rating of 95%.\n",
        "\n",
        "One NASA employee, John Smith, commented on the findings, \n",
        "stating, \"I'm not surprised that NASA came out on top. \n",
        "It's a great place to work with amazing people and \n",
        "incredible opportunities. I'm proud to be a part of \n",
        "such an innovative organization.\"\n",
        "\n",
        "The results were also welcomed by NASA's management team, \n",
        "with Director Tom Johnson stating, \"We are thrilled to \n",
        "hear that our employees are satisfied with their work at NASA. \n",
        "We have a talented and dedicated team who work tirelessly \n",
        "to achieve our goals, and it's fantastic to see that their \n",
        "hard work is paying off.\"\n",
        "\n",
        "The survey also revealed that the \n",
        "Social Security Administration had the lowest satisfaction \n",
        "rating, with only 45% of employees indicating they were \n",
        "satisfied with their job. The government has pledged to \n",
        "address the concerns raised by employees in the survey and \n",
        "work towards improving job satisfaction across all departments.\n",
        "\"\"\""
      ],
      "metadata": {
        "id": "IYcKO4BUM0_y"
      },
      "execution_count": null,
      "outputs": []
    },
    {
      "cell_type": "markdown",
      "source": [
        "### **Infer 5 topics**"
      ],
      "metadata": {
        "id": "F8J7gFBrM516"
      }
    },
    {
      "cell_type": "code",
      "source": [
        "prompt = f\"\"\"\n",
        "Determine five topics that are being discussed in the \\\n",
        "following text, which is delimited by triple backticks.\n",
        "\n",
        "Make each item one or two words long. \n",
        "\n",
        "Format your response as a list of items separated by commas.\n",
        "\n",
        "Text sample: '''{story}'''\n",
        "\"\"\"\n",
        "response = get_completion(prompt)\n",
        "print(response)"
      ],
      "metadata": {
        "id": "tiP_MDCQM_TE"
      },
      "execution_count": null,
      "outputs": []
    },
    {
      "cell_type": "markdown",
      "source": [
        "`government survey, job satisfaction, NASA, Social Security Administration, employee concerns`"
      ],
      "metadata": {
        "id": "VX_DVpV2NBXG"
      }
    },
    {
      "cell_type": "code",
      "source": [
        "response.split(sep=',')"
      ],
      "metadata": {
        "id": "cjsydyLONPcI"
      },
      "execution_count": null,
      "outputs": []
    },
    {
      "cell_type": "markdown",
      "source": [
        "```\n",
        "['government survey',\n",
        " ' job satisfaction',\n",
        " ' NASA',\n",
        " ' Social Security Administration',\n",
        " ' employee concerns']\n",
        " ```"
      ],
      "metadata": {
        "id": "SyQkT2IcNO78"
      }
    },
    {
      "cell_type": "markdown",
      "source": [
        "## **Make a news alert for certain topics**\n",
        "\n"
      ],
      "metadata": {
        "id": "l9Mf77UUNcRU"
      }
    },
    {
      "cell_type": "code",
      "source": [
        "topic_list = [\n",
        "    \"nasa\", \"local government\", \"engineering\", \n",
        "    \"employee satisfaction\", \"federal government\"\n",
        "]"
      ],
      "metadata": {
        "id": "X_oNFm4vNY0R"
      },
      "execution_count": null,
      "outputs": []
    },
    {
      "cell_type": "markdown",
      "source": [
        "In ML this is called a **Zero-Shot Learning Algorithm**, because we didn't give the LLM model any labelled training data. With just the prompt we are able to fetermine which of these topics are covered in the news article."
      ],
      "metadata": {
        "id": "ocdyz_76OK2w"
      }
    },
    {
      "cell_type": "code",
      "source": [
        "prompt = f\"\"\"\n",
        "Determine whether each item in the following list of \\\n",
        "topics is a topic in the text below, which\n",
        "is delimited with triple backticks.\n",
        "\n",
        "Give your answer as list with 0 or 1 for each topic.\\\n",
        "\n",
        "List of topics: {\", \".join(topic_list)}\n",
        "\n",
        "Text sample: '''{story}'''\n",
        "\"\"\"\n",
        "response = get_completion(prompt)\n",
        "print(response)"
      ],
      "metadata": {
        "id": "dwz88cshNioa"
      },
      "execution_count": null,
      "outputs": []
    },
    {
      "cell_type": "markdown",
      "source": [
        "```\n",
        "nasa: 1\n",
        "local government: 0\n",
        "engineering: 0\n",
        "employee satisfaction: 1\n",
        "federal government: 1\n",
        "```"
      ],
      "metadata": {
        "id": "0tAaSTHpNnNW"
      }
    },
    {
      "cell_type": "code",
      "source": [
        "topic_dict = {i.split(': ')[0]: int(i.split(': ')[1]) for i in response.split(sep='\\n')}\n",
        "if topic_dict['nasa'] == 1:\n",
        "    print(\"ALERT: New NASA story!\")"
      ],
      "metadata": {
        "id": "iUelozP4OUJe"
      },
      "execution_count": null,
      "outputs": []
    },
    {
      "cell_type": "markdown",
      "source": [
        "`ALERT: New NASA story!`"
      ],
      "metadata": {
        "id": "F4sreWo1OU40"
      }
    },
    {
      "cell_type": "markdown",
      "source": [
        "### **Try experimenting your own**"
      ],
      "metadata": {
        "id": "6gtDMc8cOW1Y"
      }
    },
    {
      "cell_type": "code",
      "source": [
        "prompt = f\"\"\"\n",
        "Determine whether each item in the following list of \\\n",
        "topics is a topic in the text below, which\n",
        "is delimited with triple backticks.\n",
        "\n",
        "Give your answer as a python dictionary, with values as a \\\n",
        "boolean for each topic and the name of each topic as the keys.\n",
        "If the information isn't present, use \"unknown\" \\\n",
        "as the value.\n",
        "\n",
        "\n",
        "List of topics: {\", \".join(topic_list)}\n",
        "\n",
        "Text sample: '''{story}'''\n",
        "\"\"\"\n",
        "response = get_completion(prompt)\n",
        "print(response)"
      ],
      "metadata": {
        "id": "DfO0ds31O1tE"
      },
      "execution_count": null,
      "outputs": []
    },
    {
      "cell_type": "markdown",
      "source": [
        "```\n",
        "{\n",
        "    'nasa': True,\n",
        "    'local government': False,\n",
        "    'engineering': False,\n",
        "    'employee satisfaction': True,\n",
        "    'federal government': True\n",
        "}\n",
        "```"
      ],
      "metadata": {
        "id": "aqL7GLs-Ri0y"
      }
    },
    {
      "cell_type": "code",
      "source": [
        "import ast\n",
        "response = ast.literal_eval(response)\n",
        "type(response)"
      ],
      "metadata": {
        "id": "0NXYjPptRl7D"
      },
      "execution_count": null,
      "outputs": []
    },
    {
      "cell_type": "markdown",
      "source": [
        "`dict`"
      ],
      "metadata": {
        "id": "yYJ0E3VpRkul"
      }
    },
    {
      "cell_type": "code",
      "source": [
        "if response['nasa'] == True:\n",
        "    print(\"ALERT: New NASA story!\")"
      ],
      "metadata": {
        "id": "6XR7ua9TRpdp"
      },
      "execution_count": null,
      "outputs": []
    },
    {
      "cell_type": "markdown",
      "source": [
        "`ALERT: New NASA story!`"
      ],
      "metadata": {
        "id": "oBFxpsb5RqnR"
      }
    }
  ]
}